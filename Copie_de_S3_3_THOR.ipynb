{
  "nbformat": 4,
  "nbformat_minor": 0,
  "metadata": {
    "colab": {
      "provenance": [],
      "toc_visible": true,
      "include_colab_link": true
    },
    "kernelspec": {
      "name": "python3",
      "display_name": "Python 3"
    },
    "language_info": {
      "name": "python"
    }
  },
  "cells": [
    {
      "cell_type": "markdown",
      "metadata": {
        "id": "view-in-github",
        "colab_type": "text"
      },
      "source": [
        "<a href=\"https://colab.research.google.com/github/tanguy-linard/2024_MLEES/blob/main/Copie_de_S3_3_THOR.ipynb\" target=\"_parent\"><img src=\"https://colab.research.google.com/assets/colab-badge.svg\" alt=\"Open In Colab\"/></a>"
      ]
    },
    {
      "cell_type": "markdown",
      "source": [
        "# Ocean Regimes Identification"
      ],
      "metadata": {
        "id": "aRbHtbmd_Qzz"
      }
    },
    {
      "cell_type": "markdown",
      "source": [
        "<img src='https://unils-my.sharepoint.com/:i:/g/personal/tom_beucler_unil_ch/ESLP1e1BfUxKu-hchh7wZKcBZiG3bJnNbnt0PDDm3BK-9g?download=1'>\n",
        "\n",
        "<center>\n",
        "Photo Credits: <a href=\"https://unsplash.com/photos/zCMWw56qseM\">Sea Foam</a> by <a href=\"https://unsplash.com/@unstable_affliction\">Ivan Bandura</a> licensed under the <a href='https://unsplash.com/license'>Unsplash License</a>\n",
        "</center>\n",
        "\n",
        "\n",
        ">*A frequently asked question related to this work is “Which mixing processes matter most for climate?” As with many alluringly comprehensive sounding questions, the answer is “it depends.”* <br>\n",
        "> $\\qquad$ MacKinnon, Jennifer A., et al. <br>$\\qquad$\"Climate process team on internal wave–driven ocean mixing.\" <br>$\\qquad$ Bulletin of the American Meteorological Society 98.11 (2017): 2429-2454."
      ],
      "metadata": {
        "id": "dUurnKLqq1un"
      }
    },
    {
      "cell_type": "markdown",
      "source": [
        "In week 4's final notebook, we will perform clustering to identify regimes in data taken from the realistic numerical ocean model [Estimating the Circulation and Climate of the Ocean](https://www.ecco-group.org/products-ECCO-V4r4.htm). Sonnewald et al. point out that finding robust regimes is intractable with a naïve approach, so we will be using reduced dimensionality data.\n",
        "\n",
        "It is worth pointing out, however, that the reduction was done with an equation instead of one of the algorithms we discussed this week. If you're interested in the full details, you can check out [Sonnewald et al. (2019)](https://doi.org/10.1029/2018EA000519)"
      ],
      "metadata": {
        "id": "yT4KFNrpZIfY"
      }
    },
    {
      "cell_type": "markdown",
      "source": [
        "**Setup**"
      ],
      "metadata": {
        "id": "PHKbQVLOUC5v"
      }
    },
    {
      "cell_type": "markdown",
      "source": [
        "First, let's import a few common modules, ensure MatplotLib plots figures inline and prepare a function to save the figures. We also check that Python 3.5 or later is installed (although Python 2.x may work, it is deprecated so we strongly recommend you use Python 3 instead), as well as Scikit-Learn ≥0.20."
      ],
      "metadata": {
        "id": "4TxieA70pcLo"
      }
    },
    {
      "cell_type": "code",
      "execution_count": 1,
      "metadata": {
        "id": "S61_Smb9T6ad"
      },
      "outputs": [],
      "source": [
        "# Python ≥3.5 is required\n",
        "import sys\n",
        "assert sys.version_info >= (3, 5)\n",
        "\n",
        "# Scikit-Learn ≥0.20 is required\n",
        "import sklearn\n",
        "assert sklearn.__version__ >= \"0.20\"\n",
        "\n",
        "# Common imports\n",
        "import numpy as np\n",
        "import os\n",
        "import xarray as xr\n",
        "import pooch\n",
        "\n",
        "# to make this notebook's output stable across runs\n",
        "rnd_seed = 42\n",
        "rnd_gen = np.random.default_rng(rnd_seed)\n",
        "\n",
        "# To plot pretty figures\n",
        "%matplotlib inline\n",
        "import matplotlib as mpl\n",
        "import matplotlib.pyplot as plt\n",
        "mpl.rc('axes', labelsize=14)\n",
        "mpl.rc('xtick', labelsize=12)\n",
        "mpl.rc('ytick', labelsize=12)\n",
        "\n",
        "# Where to save the figures\n",
        "PROJECT_ROOT_DIR = \".\"\n",
        "CHAPTER_ID = \"dim_reduction\"\n",
        "IMAGES_PATH = os.path.join(PROJECT_ROOT_DIR, \"images\", CHAPTER_ID)\n",
        "os.makedirs(IMAGES_PATH, exist_ok=True)\n",
        "\n",
        "def save_fig(fig_id, tight_layout=True, fig_extension=\"png\", resolution=300):\n",
        "    path = os.path.join(IMAGES_PATH, fig_id + \".\" + fig_extension)\n",
        "    print(\"Saving figure\", fig_id)\n",
        "    if tight_layout:\n",
        "        plt.tight_layout()\n",
        "    plt.savefig(path, format=fig_extension, dpi=resolution)"
      ]
    },
    {
      "cell_type": "markdown",
      "source": [
        "Here we're going to import the [StandardScaler](https://duckduckgo.com/sklearn.preprocessing.standardscaler) function from scikit's preprocessing tools, import the [scikit clustering library](https://duckduckgo.com/sklearn.clustering), and set up the colormap that we will use when plotting."
      ],
      "metadata": {
        "id": "6vUFq1DYUqCx"
      }
    },
    {
      "cell_type": "code",
      "source": [
        "from sklearn.preprocessing import StandardScaler\n",
        "import sklearn.cluster as cluster\n",
        "\n",
        "from matplotlib.colors import LinearSegmentedColormap, ListedColormap\n",
        "colors = ['royalblue', 'cyan','yellow', 'orange', 'magenta', 'red']\n",
        "mycmap = ListedColormap(colors)"
      ],
      "metadata": {
        "id": "34PAL9TkUHd_"
      },
      "execution_count": 2,
      "outputs": []
    },
    {
      "cell_type": "markdown",
      "source": [
        "**Data Preprocessing**"
      ],
      "metadata": {
        "id": "Fr46ZRUjpTzo"
      }
    },
    {
      "cell_type": "markdown",
      "source": [
        "The first thing we need to do is retrieve the list of files we'll be working on. We'll rely on pooch to access the files hosted on the cloud."
      ],
      "metadata": {
        "id": "O9QOXpKGpgt7"
      }
    },
    {
      "cell_type": "code",
      "source": [
        "# Retrieve the files from the cloud using Pooch.\n",
        "data_url = 'https://unils-my.sharepoint.com/:u:/g/personal/tom_beucler_unil_ch/EUYqUzpIjoJBui02QEo6q1wBSN1Zsi1ofE6I3G4B9LJn_Q?download=1'\n",
        "hash = '3f41661c7a087fa7d7af1d2a8baf95c065468f8a415b8514baedda2f5bc18bb5'\n",
        "\n",
        "files = pooch.retrieve(data_url, known_hash=hash, processor=pooch.Unzip())\n",
        "[print(filename) for filename in files];"
      ],
      "metadata": {
        "id": "nDNJnzOAfKE_",
        "colab": {
          "base_uri": "https://localhost:8080/"
        },
        "outputId": "cc005159-0d10-4202-898a-22a9932d2b77"
      },
      "execution_count": 3,
      "outputs": [
        {
          "output_type": "stream",
          "name": "stderr",
          "text": [
            "Downloading data from 'https://unils-my.sharepoint.com/:u:/g/personal/tom_beucler_unil_ch/EUYqUzpIjoJBui02QEo6q1wBSN1Zsi1ofE6I3G4B9LJn_Q?download=1' to file '/root/.cache/pooch/8a10ee1ae6941d8b9bb543c954c793fa-EUYqUzpIjoJBui02QEo6q1wBSN1Zsi1ofE6I3G4B9LJn_Q'.\n",
            "Unzipping contents of '/root/.cache/pooch/8a10ee1ae6941d8b9bb543c954c793fa-EUYqUzpIjoJBui02QEo6q1wBSN1Zsi1ofE6I3G4B9LJn_Q' to '/root/.cache/pooch/8a10ee1ae6941d8b9bb543c954c793fa-EUYqUzpIjoJBui02QEo6q1wBSN1Zsi1ofE6I3G4B9LJn_Q.unzip'\n"
          ]
        },
        {
          "output_type": "stream",
          "name": "stdout",
          "text": [
            "/root/.cache/pooch/8a10ee1ae6941d8b9bb543c954c793fa-EUYqUzpIjoJBui02QEo6q1wBSN1Zsi1ofE6I3G4B9LJn_Q.unzip/curlA.npy\n",
            "/root/.cache/pooch/8a10ee1ae6941d8b9bb543c954c793fa-EUYqUzpIjoJBui02QEo6q1wBSN1Zsi1ofE6I3G4B9LJn_Q.unzip/noiseMask.npy\n",
            "/root/.cache/pooch/8a10ee1ae6941d8b9bb543c954c793fa-EUYqUzpIjoJBui02QEo6q1wBSN1Zsi1ofE6I3G4B9LJn_Q.unzip/BPT.npy\n",
            "/root/.cache/pooch/8a10ee1ae6941d8b9bb543c954c793fa-EUYqUzpIjoJBui02QEo6q1wBSN1Zsi1ofE6I3G4B9LJn_Q.unzip/curlCori.npy\n",
            "/root/.cache/pooch/8a10ee1ae6941d8b9bb543c954c793fa-EUYqUzpIjoJBui02QEo6q1wBSN1Zsi1ofE6I3G4B9LJn_Q.unzip/curlTau.npy\n",
            "/root/.cache/pooch/8a10ee1ae6941d8b9bb543c954c793fa-EUYqUzpIjoJBui02QEo6q1wBSN1Zsi1ofE6I3G4B9LJn_Q.unzip/curlB.npy\n"
          ]
        }
      ]
    },
    {
      "cell_type": "markdown",
      "source": [
        "And now that we have a set of files to load, let's set up a dictionary with the variable names as keys and the data in numpy array format as the values."
      ],
      "metadata": {
        "id": "bZxAvW1gBbO1"
      }
    },
    {
      "cell_type": "code",
      "source": [
        "# Let's read in the variable names from the filepaths\n",
        "var_names = []\n",
        "[var_names.append(path.split('/')[-1][:-4]) for path in files]\n",
        "\n",
        "# And build a dictionary of the data variables keyed to the filenames\n",
        "data_dict = {}\n",
        "for idx, val in enumerate(var_names):\n",
        "    data_dict[val] = np.load(files[idx]).T\n",
        "\n",
        "#We'll print the name of the variable loaded and the associated shape\n",
        "[print(f'Varname: {item[0]:<15} Shape: {item[1].shape}') for item in data_dict.items()];"
      ],
      "metadata": {
        "id": "b8OmoBGHBkwG",
        "colab": {
          "base_uri": "https://localhost:8080/"
        },
        "outputId": "dd6bc97b-ebfb-41f4-fa18-ee2ef1a9a322"
      },
      "execution_count": 4,
      "outputs": [
        {
          "output_type": "stream",
          "name": "stdout",
          "text": [
            "Varname: curlA           Shape: (360, 720)\n",
            "Varname: noiseMask       Shape: (360, 720)\n",
            "Varname: BPT             Shape: (360, 720)\n",
            "Varname: curlCori        Shape: (360, 720)\n",
            "Varname: curlTau         Shape: (360, 720)\n",
            "Varname: curlB           Shape: (360, 720)\n"
          ]
        }
      ]
    },
    {
      "cell_type": "markdown",
      "source": [
        "We now have a dictionary that uses the filename as the key! Feel free to explore the data (e.g., loading the keys, checking the shape of the arrays, plotting)"
      ],
      "metadata": {
        "id": "RMbhwWTunLvz"
      }
    },
    {
      "cell_type": "code",
      "source": [
        "#Feel free to explore the data dictionary"
      ],
      "metadata": {
        "id": "rG2pgeH5pB4f"
      },
      "execution_count": 5,
      "outputs": []
    },
    {
      "cell_type": "markdown",
      "source": [
        "We're eventually going to have an array of cluster classes that we're going to use to label dynamic regimes in the ocean. Let's make an array full of NaN (not-a-number) values that has the same shape as our other variables and store it in the data dictionary."
      ],
      "metadata": {
        "id": "xXwnzzbRtTYs"
      }
    },
    {
      "cell_type": "code",
      "source": [
        "data_dict['clusters'] = np.full_like(data_dict['BPT'],np.nan)"
      ],
      "metadata": {
        "id": "4VYRgr0cuHKg"
      },
      "execution_count": 6,
      "outputs": []
    },
    {
      "cell_type": "markdown",
      "source": [
        "## Reformatting as Xarray"
      ],
      "metadata": {
        "id": "pCumDPFEpFcf"
      }
    },
    {
      "cell_type": "markdown",
      "source": [
        "In the original paper, this data was loaded as numpy arrays. However, we'll take this opportunity to demonstrate the same procedure while relying on xarray. First, let's instantiate a blank dataset.<br><br>\n",
        "\n",
        "### Q1) Make a blank xarray dataset.<br>\n",
        "*Hint: Look at the xarray [documentation](https://duckduckgo.com/?q=xarray+dataset)*"
      ],
      "metadata": {
        "id": "vz_vQOCguax0"
      }
    },
    {
      "cell_type": "code",
      "source": [
        "# Make your blank dataset here! Instantiate the class without passing any parameters.\n",
        "ds = xr.Dataset()"
      ],
      "metadata": {
        "id": "JIPsLT6g-INq"
      },
      "execution_count": 13,
      "outputs": []
    },
    {
      "cell_type": "markdown",
      "source": [
        "<img src='https://unils-my.sharepoint.com/:i:/g/personal/tom_beucler_unil_ch/EZv_qqVz_h1Hio6Nq11ckScBb01bGb9jtNKzdqAg1TPrKQ?download=1'>\n",
        "<center> Image taken from the xarray <a href='https://xarray.pydata.org/en/stable/user-guide/data-structures.html#:~:text=Dataset-,xarray.,from%20the%20netCDF%20file%20format.'> <i>Data Structure documentation</i> </a> </center>\n",
        "\n",
        "In order to build the dataset, we're going to need a set of coordinate vectors that help us map out our data! For our data, we have two axes corresponding to longitude ($\\lambda$) and latitude ($\\phi$).\n",
        "\n",
        "We don't know much about how many lat/lon points we have, so let's explore one of the variables to make sense of the data the shape of one of the numpy arrays.\n",
        "\n",
        "### Q2) Visualize the data using a plot and printing the shape of the data to the console output."
      ],
      "metadata": {
        "id": "jJK9Ud9tp3_r"
      }
    },
    {
      "cell_type": "code",
      "source": [
        "#Complete the code\n",
        "# Let's print out an image of the Bottom Pressure Torques (BPT)\n",
        "plt.imshow(data_dict['BPT'], origin='lower')"
      ],
      "metadata": {
        "id": "Kiw2tAT1D6Ny",
        "colab": {
          "base_uri": "https://localhost:8080/",
          "height": 330
        },
        "outputId": "76ef1a8b-ec9b-46d0-86e6-97cc037b5693"
      },
      "execution_count": 8,
      "outputs": [
        {
          "output_type": "execute_result",
          "data": {
            "text/plain": [
              "<matplotlib.image.AxesImage at 0x7d3115297af0>"
            ]
          },
          "metadata": {},
          "execution_count": 8
        },
        {
          "output_type": "display_data",
          "data": {
            "text/plain": [
              "<Figure size 640x480 with 1 Axes>"
            ],
            "image/png": "[encoded data removed]"
          },
          "metadata": {}
        }
      ]
    },
    {
      "cell_type": "code",
      "source": [
        "# It will also be useful to store and print out the shape of the data\n",
        "data_shape = data_dict['BPT'].shape\n",
        "print(data_shape)"
      ],
      "metadata": {
        "id": "k6E_4MivCoWQ",
        "colab": {
          "base_uri": "https://localhost:8080/"
        },
        "outputId": "6991fe26-f477-407c-f92b-c613731f1170"
      },
      "execution_count": 9,
      "outputs": [
        {
          "output_type": "stream",
          "name": "stdout",
          "text": [
            "(360, 720)\n"
          ]
        }
      ]
    },
    {
      "cell_type": "markdown",
      "source": [
        "Now that we know how the resolution of our data, we can prepare a set of axis arrays. We will use these to organize the data we will feed into the dataset.\n",
        "\n",
        "### Q3) Prepare the latitude and longitude arrays to be used as axes for our dataset\n",
        "\n",
        "*Hint 1: You can build ordered numpy arrays using, e.g., [numpy.linspace](https://numpy.org/doc/stable/reference/generated/numpy.linspace.html) and [numpy.arange](https://numpy.org/doc/stable/reference/generated/numpy.arange.html)*\n",
        "\n",
        "*Hint 2: You can rely on the data_shape variable we loaded previously to know how many points you need along each axis*"
      ],
      "metadata": {
        "id": "aXyxepjm-N5z"
      }
    },
    {
      "cell_type": "code",
      "source": [
        "#Complete the code\n",
        "# Let's prepare the lat and lon axes for our data.\n",
        "lat = np.linspace(-90,90,data_shape[0])\n",
        "lon = np.linspace(-180,180,data_shape[1])"
      ],
      "metadata": {
        "id": "vwzO0ZWMNHKg"
      },
      "execution_count": 10,
      "outputs": []
    },
    {
      "cell_type": "markdown",
      "source": [
        "Now that we have the axes we need, we can build xarray [*data arrays*](https://xarray.pydata.org/en/stable/generated/xarray.DataArray.html) for each data variable. Since we'll be doing it several times, let's go ahead and defined a function that does this for us!\n",
        "\n",
        "### Q4) Define a function that takes in: 1) an array name, 2) a numpy array, 3) a lat vector, and 4) a lon vector. The function should return a dataArray with lat-lon as the coordinate dimensions"
      ],
      "metadata": {
        "id": "yxnAU_gjOqVo"
      }
    },
    {
      "cell_type": "code",
      "source": [
        "#Complete the code\n",
        "def np_to_xr(array_name, array, lat, lon):\n",
        "    #building the xarrray\n",
        "    da = xr.DataArray(data = array, # Data to be stored\n",
        "\n",
        "                  #set the name of dimensions for the dataArray\n",
        "                  dims = ['lat', 'lon'],\n",
        "\n",
        "                  #Set the dictionary pointing the name dimensions to np arrays\n",
        "                  coords = {'lat':lat,\n",
        "                            'lon':lon},\n",
        "\n",
        "                  name=array_name)\n",
        "    return da"
      ],
      "metadata": {
        "id": "7FCXLhYfPiQD"
      },
      "execution_count": 11,
      "outputs": []
    },
    {
      "cell_type": "markdown",
      "source": [
        "We're now ready to build our data array! Let's iterate through the items and merge our blank dataset with the data arrays we create.\n",
        "\n",
        "### Q5) Build the dataset from the data dictionary\n",
        "\n",
        "*Hint: We'll be using the xarray merge command to put everything together.*"
      ],
      "metadata": {
        "id": "l9xgQaM9Rrv1"
      }
    },
    {
      "cell_type": "code",
      "source": [
        "# The code in the notebook assumes you named your dataset ds. Change it to\n",
        "# whatever you used!\n",
        "\n",
        "# Complete the code\n",
        "for key, item in data_dict.items():\n",
        "    # Let's make use of our np_to_xr function to get the data as a dataArray\n",
        "    da = np_to_xr(key, item, lat, lon)\n",
        "\n",
        "    # Merge the dataSet with the dataArray here!\n",
        "    ds = xr.merge([ds, da])"
      ],
      "metadata": {
        "id": "4pLXUfvLSZKf"
      },
      "execution_count": 14,
      "outputs": []
    },
    {
      "cell_type": "markdown",
      "source": [
        "Congratulations! You should now have a nicely set up xarray dataset. This let's you access a ton of nice features, e.g.:\n",
        "> Data plotting by calling, e.g., `ds.BPT.plot.imshow(cmap='ocean')`\n",
        ">\n",
        "> Find statistical measures of all variables at once! (e.g.: `ds.std()`, `ds.mean()`)"
      ],
      "metadata": {
        "id": "aC1Gq_q7WEWc"
      }
    },
    {
      "cell_type": "code",
      "source": [
        "# Play around with the dataset here if you'd like :)"
      ],
      "metadata": {
        "id": "uag0JpWzaaS-"
      },
      "execution_count": null,
      "outputs": []
    },
    {
      "cell_type": "markdown",
      "source": [
        "Now we want to find clusters of data considering each grid point as a datapoint with 5 dimensional data. However, we went through a lot of work to get the data nicely associated with a lat and lon - do we really want to undo that?\n",
        "\n",
        "Luckily, xarray developers foresaw the need to group dimensions together. Let's create a 'flat' version of our dataset using the [`stack`](https://xarray.pydata.org/en/stable/generated/xarray.DataArray.stack.html) method. Let's make a flattened version of our dataset.\n",
        "\n",
        "### Q6) Store a flattened version of our dataset\n",
        "\n",
        "*Hint 1: You'll need to pass a dictionary with the 'new' stacked dimension name as the key and the 'flattened' dimensions as the values.*\n",
        "\n",
        "*Hint 2: xarrays have a ['.values' attribute](https://xarray.pydata.org/en/stable/generated/xarray.DataArray.values.html) that return their data as a numpy array.*"
      ],
      "metadata": {
        "id": "vEfuD2O8aZ4w"
      }
    },
    {
      "cell_type": "code",
      "source": [
        "# Complete the code\n",
        "# Let's store the stacked version of our dataset\n",
        "stacked = ds.stack({'stacked_dim': ['lat', 'lon']})"
      ],
      "metadata": {
        "id": "G4e2NDipb0Tr"
      },
      "execution_count": 15,
      "outputs": []
    },
    {
      "cell_type": "code",
      "source": [
        "# And verify the shape of our data\n",
        "print(stacked.to_array().shape)"
      ],
      "metadata": {
        "id": "UQt4-fFACtUm",
        "colab": {
          "base_uri": "https://localhost:8080/"
        },
        "outputId": "bf7e4032-bcd6-47f8-b2e7-b1721c9b2160"
      },
      "execution_count": 16,
      "outputs": [
        {
          "output_type": "stream",
          "name": "stdout",
          "text": [
            "(7, 259200)\n"
          ]
        }
      ]
    },
    {
      "cell_type": "markdown",
      "source": [
        "So far we've ignored an important point - we're supposed to have 5 variables, not 6! As you may have guessed, `noiseMask` helps us throw away data we dont want (e.g., from land mass or bad pixels).\n",
        "\n",
        "We're now going to clean up the stacked dataset using the noise mask. Relax and read through the code, since there won't be a question in this part :)"
      ],
      "metadata": {
        "id": "MZGPnmooffKy"
      }
    },
    {
      "cell_type": "code",
      "source": [
        "# Let's redefine stacked as all the points where noiseMask = 1, since noisemask\n",
        "# is binary data.\n",
        "\n",
        "print(f'Dataset shape before processing: {stacked.to_array().values.shape}')\n",
        "\n",
        "print(\"Let's do some data cleaning!\")\n",
        "print(f'Points before cleaning: {len(stacked.BPT)}')\n",
        "stacked = stacked.where(stacked.noiseMask==1, drop=True)\n",
        "print(f'Points after cleaning: {len(stacked.BPT)}')"
      ],
      "metadata": {
        "id": "sbXscaE_fcOj",
        "colab": {
          "base_uri": "https://localhost:8080/"
        },
        "outputId": "71519d0e-7c68-42dc-9ccc-61d3a92f1b56"
      },
      "execution_count": 17,
      "outputs": [
        {
          "output_type": "stream",
          "name": "stdout",
          "text": [
            "Dataset shape before processing: (7, 259200)\n",
            "Let's do some data cleaning!\n",
            "Points before cleaning: 259200\n",
            "Points after cleaning: 149714\n"
          ]
        }
      ]
    },
    {
      "cell_type": "code",
      "source": [
        "# We also no longer need the noiseMask variable, so we can just drop it.\n",
        "\n",
        "print('And drop the noisemask variable...')\n",
        "print(f'Before dropping: {stacked.to_array().values.shape}')\n",
        "stacked = stacked.drop('noiseMask')\n",
        "print(f'Dataset shape after processing: {stacked.to_array().values.shape}')"
      ],
      "metadata": {
        "id": "crX5HoD3C3Ls",
        "colab": {
          "base_uri": "https://localhost:8080/"
        },
        "outputId": "ce54e3b6-b4ae-49a5-d6ab-1ff2573f5c39"
      },
      "execution_count": 18,
      "outputs": [
        {
          "output_type": "stream",
          "name": "stdout",
          "text": [
            "And drop the noisemask variable...\n",
            "Before dropping: (7, 149714)\n",
            "Dataset shape after processing: (6, 149714)\n"
          ]
        },
        {
          "output_type": "stream",
          "name": "stderr",
          "text": [
            "<ipython-input-18-53af3cff5b07>:5: DeprecationWarning: dropping variables using `drop` is deprecated; use drop_vars.\n",
            "  stacked = stacked.drop('noiseMask')\n"
          ]
        }
      ]
    },
    {
      "cell_type": "markdown",
      "source": [
        "We now have several thousand points which we want to divide into clusters using the kmeans clustering algorithm (you can check out the documentation for scikit's implementation of kmeans [here](https://scikit-learn.org/stable/modules/generated/sklearn.cluster.KMeans.html)).\n",
        "\n",
        "You'll note that the algorithm expects the input data `X` to be fed as `(n_samples, n_features)`. This is the opposite of what we have! Let's go ahead and make a copy to a numpy array has the axes in the right order.\n",
        "\n",
        "You'll need xarray's [`.to_array()`](https://xarray.pydata.org/en/stable/generated/xarray.Dataset.to_array.html) method and [`.values`](https://xarray.pydata.org/en/stable/generated/xarray.DataArray.values.html) parameter, as well as numpy's [`.moveaxis`](https://numpy.org/doc/stable/reference/generated/numpy.moveaxis.html) method.\n",
        "\n",
        "### Q7) Load the datapoints into a numpy array following the convention where the 0th axis corresponds to the samples and the 1st axis corresponds to the features."
      ],
      "metadata": {
        "id": "5Pol90vsU_wv"
      }
    },
    {
      "cell_type": "code",
      "source": [
        "input_data = np.moveaxis(stacked.to_array().values,  # data to reshape. Note that cluster is dropped since not needed for training\n",
        "                         0,          # source axis as integer,\n",
        "                         -1)         # destination axis as integer"
      ],
      "metadata": {
        "id": "uu0AVVkPeTzC"
      },
      "execution_count": 20,
      "outputs": []
    },
    {
      "cell_type": "code",
      "source": [
        "# Does the input data look the way it's supposed to? Print the shape.\n",
        "print(input_data.shape)"
      ],
      "metadata": {
        "id": "Vi9GZ-XsC6Nd",
        "colab": {
          "base_uri": "https://localhost:8080/"
        },
        "outputId": "a5b01dca-a1b5-425f-b0c5-4672400db8ea"
      },
      "execution_count": 22,
      "outputs": [
        {
          "output_type": "stream",
          "name": "stdout",
          "text": [
            "(149714, 6)\n"
          ]
        }
      ]
    },
    {
      "cell_type": "markdown",
      "source": [
        "## Kmeans clustering"
      ],
      "metadata": {
        "id": "Sd7dfacgRCuL"
      }
    },
    {
      "cell_type": "markdown",
      "source": [
        "In previous classes we discussed the importance of the scaling the data before implementing our algorithms. Now that our data is all but ready to be fed into an algorithm, let's make sure that it's been scaled.\n",
        "\n",
        "### Q8) Scale the input data\n",
        "\n",
        "*Hint 1: Import the [`StandardScaler`](https://scikit-learn.org/stable/modules/generated/sklearn.preprocessing.StandardScaler.html) class from scikit and instantiate it*\n",
        "\n",
        "*Hint 2: Update the input array to the one returned by the [`.fit_transform(X)`](https://scikit-learn.org/stable/modules/generated/sklearn.preprocessing.StandardScaler.html#sklearn.preprocessing.StandardScaler.fit_transform) method*"
      ],
      "metadata": {
        "id": "AoZSkMieiL9O"
      }
    },
    {
      "cell_type": "code",
      "source": [
        "#Write your scaling code here\n",
        "from sklearn.preprocessing import StandardScaler\n",
        "scaler = StandardScaler()\n",
        "input_data = scaler.fit_transform(input_data)"
      ],
      "metadata": {
        "id": "D2sZPWf1ignO",
        "colab": {
          "base_uri": "https://localhost:8080/"
        },
        "outputId": "3de34f95-2bca-4ec6-dd08-9ce1222ae834"
      },
      "execution_count": 24,
      "outputs": [
        {
          "output_type": "stream",
          "name": "stderr",
          "text": [
            "/usr/local/lib/python3.10/dist-packages/sklearn/utils/extmath.py:1137: RuntimeWarning: invalid value encountered in divide\n",
            "  updated_mean = (last_sum + new_sum) / updated_sample_count\n",
            "/usr/local/lib/python3.10/dist-packages/sklearn/utils/extmath.py:1142: RuntimeWarning: invalid value encountered in divide\n",
            "  T = new_sum / new_sample_count\n",
            "/usr/local/lib/python3.10/dist-packages/sklearn/utils/extmath.py:1162: RuntimeWarning: invalid value encountered in divide\n",
            "  new_unnormalized_variance -= correction**2 / new_sample_count\n"
          ]
        }
      ]
    },
    {
      "cell_type": "markdown",
      "source": [
        "Now we're finally ready to train our algorithm! Let's load up the kmeans model and find clusters in our data.\n",
        "\n",
        "### Q9) Instantiate the kmeans clustering algorithm, and then fit it using 50 clusters, trying out 10 different initial centroids.\n",
        "\n",
        "*Hint 1: `sklearn.cluster` was imported as `cluser` during the notebook setup! [Here is the scikit `KMeans` documentation](https://scikit-learn.org/stable/modules/generated/sklearn.cluster.KMeans.html).*\n",
        "\n",
        "*Hint 2: Use the `fit_predict` method to organize the data into clusters*\n",
        "\n",
        "*Warning! : Fitting the data may take some time (under a minute during the testing of the notebook)"
      ],
      "metadata": {
        "id": "_z3e6dU8rInv"
      }
    },
    {
      "cell_type": "code",
      "source": [
        "# Complete the code\n",
        "kmeans = cluster.KMeans(n_clusters =50,  # Number of clusters\n",
        "                        random_state =42, # setting a random state\n",
        "                        n_init =10, # Number of initial centroid states to try\n",
        "                        verbose = 1)   # Verbosity so we know things are working"
      ],
      "metadata": {
        "id": "DtYyiksRrHPm"
      },
      "execution_count": 25,
      "outputs": []
    },
    {
      "cell_type": "code",
      "source": [
        "cluster_labels = kmeans.fit_predict(np.nan_to_num(input_data)) # Feed in out scaled input data!"
      ],
      "metadata": {
        "id": "ohuw1WFiC8kS",
        "colab": {
          "base_uri": "https://localhost:8080/"
        },
        "outputId": "1fc3ccad-4598-4c04-b756-234db376d7c1"
      },
      "execution_count": 29,
      "outputs": [
        {
          "output_type": "stream",
          "name": "stdout",
          "text": [
            "Initialization complete\n",
            "Iteration 0, inertia 178539.00982924117.\n",
            "Iteration 1, inertia 162261.46194163503.\n",
            "Iteration 2, inertia 158116.0026155056.\n",
            "Iteration 3, inertia 156154.94948264517.\n",
            "Iteration 4, inertia 154655.68230869836.\n",
            "Iteration 5, inertia 153702.13580924887.\n",
            "Iteration 6, inertia 152994.4960641377.\n",
            "Iteration 7, inertia 152528.28110496432.\n",
            "Iteration 8, inertia 152108.36268125765.\n",
            "Iteration 9, inertia 151717.82923214673.\n",
            "Iteration 10, inertia 151335.17681824.\n",
            "Iteration 11, inertia 150967.80178906443.\n",
            "Iteration 12, inertia 150535.0968668106.\n",
            "Iteration 13, inertia 150130.06375057463.\n",
            "Iteration 14, inertia 149635.23733039762.\n",
            "Iteration 15, inertia 149153.54438292573.\n",
            "Iteration 16, inertia 148761.87688258116.\n",
            "Iteration 17, inertia 148454.96770510706.\n",
            "Iteration 18, inertia 148201.86773876465.\n",
            "Iteration 19, inertia 147982.7837860522.\n",
            "Iteration 20, inertia 147743.02515719907.\n",
            "Iteration 21, inertia 147451.36197518025.\n",
            "Iteration 22, inertia 147153.6496246658.\n",
            "Iteration 23, inertia 146876.02038913115.\n",
            "Iteration 24, inertia 146661.37766801618.\n",
            "Iteration 25, inertia 146505.5474266634.\n",
            "Iteration 26, inertia 146415.86222520994.\n",
            "Iteration 27, inertia 146325.734663791.\n",
            "Iteration 28, inertia 146269.39740016224.\n",
            "Iteration 29, inertia 146225.03269565382.\n",
            "Iteration 30, inertia 146189.11299077127.\n",
            "Iteration 31, inertia 146144.29272662455.\n",
            "Iteration 32, inertia 146119.3792659813.\n",
            "Iteration 33, inertia 146099.01138335577.\n",
            "Iteration 34, inertia 146082.91387737583.\n",
            "Iteration 35, inertia 146064.2196978588.\n",
            "Iteration 36, inertia 146046.757886553.\n",
            "Iteration 37, inertia 146033.9205427285.\n",
            "Iteration 38, inertia 146024.47434097505.\n",
            "Iteration 39, inertia 146013.95946114996.\n",
            "Iteration 40, inertia 146002.92731744546.\n",
            "Iteration 41, inertia 145991.91387618915.\n",
            "Iteration 42, inertia 145980.61876912502.\n",
            "Iteration 43, inertia 145967.00066413643.\n",
            "Iteration 44, inertia 145954.61219605163.\n",
            "Iteration 45, inertia 145940.9462011692.\n",
            "Iteration 46, inertia 145922.70567395675.\n",
            "Iteration 47, inertia 145903.91462561314.\n",
            "Iteration 48, inertia 145886.81650291366.\n",
            "Iteration 49, inertia 145867.37126312833.\n",
            "Iteration 50, inertia 145851.38334817556.\n",
            "Iteration 51, inertia 145834.5041679616.\n",
            "Iteration 52, inertia 145818.54189558254.\n",
            "Iteration 53, inertia 145801.6366746308.\n",
            "Iteration 54, inertia 145787.64337835897.\n",
            "Iteration 55, inertia 145767.52529254975.\n",
            "Iteration 56, inertia 145758.6082933311.\n",
            "Iteration 57, inertia 145752.5582201105.\n",
            "Iteration 58, inertia 145746.92445383643.\n",
            "Iteration 59, inertia 145742.03972218442.\n",
            "Iteration 60, inertia 145739.00012309186.\n",
            "Iteration 61, inertia 145734.82022602073.\n",
            "Iteration 62, inertia 145728.2076812228.\n",
            "Iteration 63, inertia 145713.5291768977.\n",
            "Iteration 64, inertia 145700.43616734052.\n",
            "Iteration 65, inertia 145685.22981899884.\n",
            "Iteration 66, inertia 145667.8462674176.\n",
            "Iteration 67, inertia 145655.208692507.\n",
            "Iteration 68, inertia 145645.22234632183.\n",
            "Iteration 69, inertia 145630.14377636058.\n",
            "Iteration 70, inertia 145613.26963462756.\n",
            "Iteration 71, inertia 145600.04100148633.\n",
            "Iteration 72, inertia 145591.32328793328.\n",
            "Iteration 73, inertia 145583.2069140832.\n",
            "Iteration 74, inertia 145578.08438489534.\n",
            "Iteration 75, inertia 145574.77443104537.\n",
            "Iteration 76, inertia 145573.27895990427.\n",
            "Iteration 77, inertia 145572.0271533673.\n",
            "Iteration 78, inertia 145570.95722533617.\n",
            "Iteration 79, inertia 145570.13944160027.\n",
            "Iteration 80, inertia 145569.34587030383.\n",
            "Iteration 81, inertia 145568.0698307921.\n",
            "Iteration 82, inertia 145565.50098031625.\n",
            "Iteration 83, inertia 145564.35595279478.\n",
            "Iteration 84, inertia 145563.67079817157.\n",
            "Iteration 85, inertia 145562.93633688716.\n",
            "Iteration 86, inertia 145562.50983280886.\n",
            "Iteration 87, inertia 145562.1897599046.\n",
            "Iteration 88, inertia 145561.76427223688.\n",
            "Iteration 89, inertia 145560.38779655704.\n",
            "Iteration 90, inertia 145557.74639176784.\n",
            "Iteration 91, inertia 145556.0357672916.\n",
            "Iteration 92, inertia 145554.22049590395.\n",
            "Iteration 93, inertia 145552.17750744775.\n",
            "Iteration 94, inertia 145550.27609955004.\n",
            "Iteration 95, inertia 145549.52975210702.\n",
            "Iteration 96, inertia 145548.76768351547.\n",
            "Iteration 97, inertia 145547.19078184624.\n",
            "Iteration 98, inertia 145542.2434931495.\n",
            "Iteration 99, inertia 145532.95426444244.\n",
            "Iteration 100, inertia 145528.93352559095.\n",
            "Iteration 101, inertia 145526.57124241127.\n",
            "Iteration 102, inertia 145524.7094803048.\n",
            "Iteration 103, inertia 145523.37741533382.\n",
            "Iteration 104, inertia 145522.89510194937.\n",
            "Iteration 105, inertia 145522.48019097338.\n",
            "Iteration 106, inertia 145522.26781294108.\n",
            "Iteration 107, inertia 145522.12350194104.\n",
            "Iteration 108, inertia 145521.9888858466.\n",
            "Iteration 109, inertia 145521.79742917346.\n",
            "Iteration 110, inertia 145521.65699934418.\n",
            "Iteration 111, inertia 145521.345907048.\n",
            "Iteration 112, inertia 145520.62939541333.\n",
            "Iteration 113, inertia 145519.8533753481.\n",
            "Iteration 114, inertia 145519.3347724585.\n",
            "Iteration 115, inertia 145518.89496533576.\n",
            "Iteration 116, inertia 145518.49137725876.\n",
            "Iteration 117, inertia 145518.1715294345.\n",
            "Iteration 118, inertia 145517.79777976664.\n",
            "Iteration 119, inertia 145517.4186067466.\n",
            "Iteration 120, inertia 145516.87979614444.\n",
            "Iteration 121, inertia 145515.19525905783.\n",
            "Iteration 122, inertia 145512.84474500196.\n",
            "Iteration 123, inertia 145510.9971367955.\n",
            "Iteration 124, inertia 145509.04561410833.\n",
            "Iteration 125, inertia 145505.4481880607.\n",
            "Iteration 126, inertia 145503.05054021586.\n",
            "Iteration 127, inertia 145501.74881710764.\n",
            "Iteration 128, inertia 145500.7963938569.\n",
            "Iteration 129, inertia 145499.47853752453.\n",
            "Iteration 130, inertia 145498.5236045898.\n",
            "Iteration 131, inertia 145497.3839037205.\n",
            "Iteration 132, inertia 145496.23583834767.\n",
            "Iteration 133, inertia 145495.51502214617.\n",
            "Iteration 134, inertia 145494.61258442682.\n",
            "Iteration 135, inertia 145493.78958010333.\n",
            "Iteration 136, inertia 145492.8968144964.\n",
            "Iteration 137, inertia 145492.08377087035.\n",
            "Iteration 138, inertia 145491.0533629786.\n",
            "Iteration 139, inertia 145489.87658321.\n",
            "Iteration 140, inertia 145488.88748816942.\n",
            "Iteration 141, inertia 145487.06890394134.\n",
            "Iteration 142, inertia 145485.6432932142.\n",
            "Iteration 143, inertia 145481.72877042423.\n",
            "Iteration 144, inertia 145472.23018608912.\n",
            "Iteration 145, inertia 145466.91800035327.\n",
            "Iteration 146, inertia 145465.2430142308.\n",
            "Iteration 147, inertia 145462.11655403915.\n",
            "Iteration 148, inertia 145457.4983950548.\n",
            "Iteration 149, inertia 145453.93707488463.\n",
            "Iteration 150, inertia 145451.05785353997.\n",
            "Iteration 151, inertia 145449.55825158925.\n",
            "Iteration 152, inertia 145448.0843851972.\n",
            "Iteration 153, inertia 145447.23236924072.\n",
            "Iteration 154, inertia 145446.69504510204.\n",
            "Iteration 155, inertia 145446.2996799153.\n",
            "Iteration 156, inertia 145446.05349428958.\n",
            "Iteration 157, inertia 145445.6726925571.\n",
            "Iteration 158, inertia 145445.13349978556.\n",
            "Iteration 159, inertia 145444.47389745334.\n",
            "Iteration 160, inertia 145443.9294588324.\n",
            "Iteration 161, inertia 145443.57199947227.\n",
            "Iteration 162, inertia 145442.20214048572.\n",
            "Iteration 163, inertia 145441.59494949397.\n",
            "Iteration 164, inertia 145441.27336408934.\n",
            "Iteration 165, inertia 145440.78520648935.\n",
            "Iteration 166, inertia 145440.57151753912.\n",
            "Converged at iteration 166: center shift 3.785930362333019e-05 within tolerance 8.333333333333372e-05.\n",
            "Initialization complete\n",
            "Iteration 0, inertia 179478.145052602.\n",
            "Iteration 1, inertia 160926.8085514613.\n",
            "Iteration 2, inertia 156363.77030163354.\n",
            "Iteration 3, inertia 154744.88929263197.\n",
            "Iteration 4, inertia 153886.93062688323.\n",
            "Iteration 5, inertia 153239.76776226054.\n",
            "Iteration 6, inertia 152669.69779939664.\n",
            "Iteration 7, inertia 152168.8444134961.\n",
            "Iteration 8, inertia 151688.8048675149.\n",
            "Iteration 9, inertia 151189.54994646678.\n",
            "Iteration 10, inertia 150622.15123213248.\n",
            "Iteration 11, inertia 150028.13294330542.\n",
            "Iteration 12, inertia 149415.3653964076.\n",
            "Iteration 13, inertia 148945.86311357786.\n",
            "Iteration 14, inertia 148626.6428718342.\n",
            "Iteration 15, inertia 148322.3503018831.\n",
            "Iteration 16, inertia 148060.1596311478.\n",
            "Iteration 17, inertia 147896.92819276816.\n",
            "Iteration 18, inertia 147767.8816025051.\n",
            "Iteration 19, inertia 147663.38095837613.\n",
            "Iteration 20, inertia 147560.81135451538.\n",
            "Iteration 21, inertia 147455.66376603194.\n",
            "Iteration 22, inertia 147291.72367596327.\n",
            "Iteration 23, inertia 147121.410150542.\n",
            "Iteration 24, inertia 146995.3490033249.\n",
            "Iteration 25, inertia 146899.458136771.\n",
            "Iteration 26, inertia 146812.27058892843.\n",
            "Iteration 27, inertia 146726.77426834733.\n",
            "Iteration 28, inertia 146675.3861604625.\n",
            "Iteration 29, inertia 146613.95122037167.\n",
            "Iteration 30, inertia 146561.48461672352.\n",
            "Iteration 31, inertia 146530.9118989246.\n",
            "Iteration 32, inertia 146500.04634771406.\n",
            "Iteration 33, inertia 146479.21463880077.\n",
            "Iteration 34, inertia 146463.68738977.\n",
            "Iteration 35, inertia 146452.3459849635.\n",
            "Iteration 36, inertia 146443.22299384788.\n",
            "Iteration 37, inertia 146431.93834099025.\n",
            "Iteration 38, inertia 146419.84482025998.\n",
            "Iteration 39, inertia 146412.62923974637.\n",
            "Iteration 40, inertia 146405.67640885382.\n",
            "Iteration 41, inertia 146398.5297385859.\n",
            "Iteration 42, inertia 146394.536924189.\n",
            "Iteration 43, inertia 146391.80008180437.\n",
            "Iteration 44, inertia 146388.58243777434.\n",
            "Iteration 45, inertia 146385.53106904504.\n",
            "Iteration 46, inertia 146383.16267858396.\n",
            "Iteration 47, inertia 146382.82247086262.\n",
            "Iteration 48, inertia 146382.5392966045.\n",
            "Iteration 49, inertia 146382.2441171321.\n",
            "Converged at iteration 49: center shift 2.19431691052442e-05 within tolerance 8.333333333333372e-05.\n",
            "Initialization complete\n",
            "Iteration 0, inertia 179693.58533818196.\n",
            "Iteration 1, inertia 162344.47431407496.\n",
            "Iteration 2, inertia 157081.89521479936.\n",
            "Iteration 3, inertia 154358.8793283763.\n",
            "Iteration 4, inertia 152732.0966997419.\n",
            "Iteration 5, inertia 151773.73392010713.\n",
            "Iteration 6, inertia 151120.24399269148.\n",
            "Iteration 7, inertia 150684.46152117942.\n",
            "Iteration 8, inertia 150366.43058297553.\n",
            "Iteration 9, inertia 150138.42965020746.\n",
            "Iteration 10, inertia 149888.98427810895.\n",
            "Iteration 11, inertia 149665.33596933843.\n",
            "Iteration 12, inertia 149490.11602825345.\n",
            "Iteration 13, inertia 149307.88135598242.\n",
            "Iteration 14, inertia 149156.7662268109.\n",
            "Iteration 15, inertia 149016.3333346665.\n",
            "Iteration 16, inertia 148900.87047042363.\n",
            "Iteration 17, inertia 148770.17228159294.\n",
            "Iteration 18, inertia 148648.59621060625.\n",
            "Iteration 19, inertia 148549.73845340603.\n",
            "Iteration 20, inertia 148461.78233506638.\n",
            "Iteration 21, inertia 148399.5299668178.\n",
            "Iteration 22, inertia 148346.0426851281.\n",
            "Iteration 23, inertia 148287.33350777254.\n",
            "Iteration 24, inertia 148229.99554224766.\n",
            "Iteration 25, inertia 148144.57579823292.\n",
            "Iteration 26, inertia 148083.93347275283.\n",
            "Iteration 27, inertia 148038.20614737313.\n",
            "Iteration 28, inertia 148005.5847028177.\n",
            "Iteration 29, inertia 147978.3154867444.\n",
            "Iteration 30, inertia 147955.7557574802.\n",
            "Iteration 31, inertia 147937.6779817312.\n",
            "Iteration 32, inertia 147915.6645408738.\n",
            "Iteration 33, inertia 147902.47333922866.\n",
            "Iteration 34, inertia 147892.48802700528.\n",
            "Iteration 35, inertia 147883.7114671517.\n",
            "Iteration 36, inertia 147876.03577679096.\n",
            "Iteration 37, inertia 147867.15858818585.\n",
            "Iteration 38, inertia 147861.6179985064.\n",
            "Iteration 39, inertia 147854.4745844855.\n",
            "Iteration 40, inertia 147846.66236071812.\n",
            "Iteration 41, inertia 147840.88547350513.\n",
            "Iteration 42, inertia 147834.889266137.\n",
            "Iteration 43, inertia 147826.20620488102.\n",
            "Iteration 44, inertia 147817.43216130618.\n",
            "Iteration 45, inertia 147806.94052504157.\n",
            "Iteration 46, inertia 147799.55971505967.\n",
            "Iteration 47, inertia 147795.40792795032.\n",
            "Iteration 48, inertia 147790.3652790913.\n",
            "Iteration 49, inertia 147785.34256312612.\n",
            "Iteration 50, inertia 147781.0380473483.\n",
            "Iteration 51, inertia 147777.8760692897.\n",
            "Iteration 52, inertia 147775.03459570798.\n",
            "Iteration 53, inertia 147773.97663214276.\n",
            "Iteration 54, inertia 147773.62595919127.\n",
            "Iteration 55, inertia 147773.33396217428.\n",
            "Iteration 56, inertia 147773.12958950354.\n",
            "Converged at iteration 56: center shift 4.435979711955868e-05 within tolerance 8.333333333333372e-05.\n",
            "Initialization complete\n",
            "Iteration 0, inertia 181527.88717998876.\n",
            "Iteration 1, inertia 162336.14998093262.\n",
            "Iteration 2, inertia 158027.64076214557.\n",
            "Iteration 3, inertia 156015.51089408403.\n",
            "Iteration 4, inertia 154685.62677571576.\n",
            "Iteration 5, inertia 153855.0048175694.\n",
            "Iteration 6, inertia 153135.97559196243.\n",
            "Iteration 7, inertia 152544.10604592832.\n",
            "Iteration 8, inertia 152073.0714008333.\n",
            "Iteration 9, inertia 151628.8425673084.\n",
            "Iteration 10, inertia 151258.8339363777.\n",
            "Iteration 11, inertia 150959.59471785373.\n",
            "Iteration 12, inertia 150659.5992199891.\n",
            "Iteration 13, inertia 150416.1658197812.\n",
            "Iteration 14, inertia 150197.88014966372.\n",
            "Iteration 15, inertia 149950.69496348014.\n",
            "Iteration 16, inertia 149769.91760693793.\n",
            "Iteration 17, inertia 149587.4677312187.\n",
            "Iteration 18, inertia 149346.7066922137.\n",
            "Iteration 19, inertia 149050.86133802586.\n",
            "Iteration 20, inertia 148855.7667591128.\n",
            "Iteration 21, inertia 148778.7933614739.\n",
            "Iteration 22, inertia 148753.7521555009.\n",
            "Iteration 23, inertia 148738.55423929958.\n",
            "Iteration 24, inertia 148711.06731247317.\n",
            "Iteration 25, inertia 148688.79329465627.\n",
            "Iteration 26, inertia 148672.60170650372.\n",
            "Iteration 27, inertia 148640.7379236255.\n",
            "Iteration 28, inertia 148611.61797524005.\n",
            "Iteration 29, inertia 148554.2666982528.\n",
            "Iteration 30, inertia 148496.77837260338.\n",
            "Iteration 31, inertia 148424.777859959.\n",
            "Iteration 32, inertia 148299.67163472468.\n",
            "Iteration 33, inertia 148181.78093801235.\n",
            "Iteration 34, inertia 148103.89337626265.\n",
            "Iteration 35, inertia 148050.57679214835.\n",
            "Iteration 36, inertia 148001.03675858185.\n",
            "Iteration 37, inertia 147961.0347143503.\n",
            "Iteration 38, inertia 147920.6652587349.\n",
            "Iteration 39, inertia 147783.33658330576.\n",
            "Iteration 40, inertia 147648.19272419275.\n",
            "Iteration 41, inertia 147612.1554469632.\n",
            "Iteration 42, inertia 147589.89796479148.\n",
            "Iteration 43, inertia 147576.26209965482.\n",
            "Iteration 44, inertia 147560.06562581344.\n",
            "Iteration 45, inertia 147545.4737669419.\n",
            "Iteration 46, inertia 147535.21521897547.\n",
            "Iteration 47, inertia 147529.0256027365.\n",
            "Iteration 48, inertia 147526.26009502285.\n",
            "Iteration 49, inertia 147522.7577884297.\n",
            "Iteration 50, inertia 147519.28100901836.\n",
            "Iteration 51, inertia 147515.18080443365.\n",
            "Iteration 52, inertia 147507.371601266.\n",
            "Iteration 53, inertia 147492.58339798186.\n",
            "Iteration 54, inertia 147475.48114435354.\n",
            "Iteration 55, inertia 147464.41474999255.\n",
            "Iteration 56, inertia 147450.44819967207.\n",
            "Iteration 57, inertia 147444.41623261856.\n",
            "Iteration 58, inertia 147440.66432174464.\n",
            "Iteration 59, inertia 147439.51866553273.\n",
            "Iteration 60, inertia 147438.85256552792.\n",
            "Iteration 61, inertia 147438.38005626015.\n",
            "Iteration 62, inertia 147437.448002987.\n",
            "Iteration 63, inertia 147437.05109699638.\n",
            "Iteration 64, inertia 147436.8021286706.\n",
            "Converged at iteration 64: center shift 2.952915857119294e-05 within tolerance 8.333333333333372e-05.\n",
            "Initialization complete\n",
            "Iteration 0, inertia 180578.5376102297.\n",
            "Iteration 1, inertia 160245.3503707576.\n",
            "Iteration 2, inertia 155213.7566479028.\n",
            "Iteration 3, inertia 152813.75795381784.\n",
            "Iteration 4, inertia 151784.26799193828.\n",
            "Iteration 5, inertia 151348.3958523811.\n",
            "Iteration 6, inertia 151078.17696661231.\n",
            "Iteration 7, inertia 150798.84477868347.\n",
            "Iteration 8, inertia 150550.49507854495.\n",
            "Iteration 9, inertia 150335.9988738076.\n",
            "Iteration 10, inertia 150122.20469516414.\n",
            "Iteration 11, inertia 149976.70109500687.\n",
            "Iteration 12, inertia 149852.9761119776.\n",
            "Iteration 13, inertia 149778.91078294496.\n",
            "Iteration 14, inertia 149732.28856776774.\n",
            "Iteration 15, inertia 149691.10588380287.\n",
            "Iteration 16, inertia 149641.70300478704.\n",
            "Iteration 17, inertia 149587.55315943123.\n",
            "Iteration 18, inertia 149525.98141652418.\n",
            "Iteration 19, inertia 149452.35638845593.\n",
            "Iteration 20, inertia 149360.93488314495.\n",
            "Iteration 21, inertia 149224.2305688708.\n",
            "Iteration 22, inertia 149092.72026072818.\n",
            "Iteration 23, inertia 148976.88428343632.\n",
            "Iteration 24, inertia 148904.44662979865.\n",
            "Iteration 25, inertia 148857.42565060835.\n",
            "Iteration 26, inertia 148822.21225951103.\n",
            "Iteration 27, inertia 148810.30896602583.\n",
            "Iteration 28, inertia 148801.53890669515.\n",
            "Iteration 29, inertia 148795.81296092342.\n",
            "Iteration 30, inertia 148792.07873739995.\n",
            "Iteration 31, inertia 148789.43744523235.\n",
            "Iteration 32, inertia 148788.40053158777.\n",
            "Iteration 33, inertia 148786.94365106508.\n",
            "Iteration 34, inertia 148784.69116872767.\n",
            "Iteration 35, inertia 148781.58085907612.\n",
            "Iteration 36, inertia 148778.60740092935.\n",
            "Iteration 37, inertia 148776.57150686867.\n",
            "Iteration 38, inertia 148774.80680245796.\n",
            "Iteration 39, inertia 148772.94245064486.\n",
            "Iteration 40, inertia 148771.37171851555.\n",
            "Iteration 41, inertia 148770.09888352253.\n",
            "Iteration 42, inertia 148769.23416455268.\n",
            "Iteration 43, inertia 148768.5651230349.\n",
            "Iteration 44, inertia 148767.98721262472.\n",
            "Iteration 45, inertia 148767.68099074526.\n",
            "Iteration 46, inertia 148767.2940763562.\n",
            "Iteration 47, inertia 148766.76878065534.\n",
            "Iteration 48, inertia 148765.49055505992.\n",
            "Iteration 49, inertia 148764.79836164898.\n",
            "Iteration 50, inertia 148764.20991744235.\n",
            "Iteration 51, inertia 148763.75910575417.\n",
            "Iteration 52, inertia 148762.9636681468.\n",
            "Iteration 53, inertia 148762.1556666165.\n",
            "Iteration 54, inertia 148761.58836604495.\n",
            "Iteration 55, inertia 148761.15777258517.\n",
            "Iteration 56, inertia 148760.8180634516.\n",
            "Iteration 57, inertia 148759.99540710115.\n",
            "Iteration 58, inertia 148759.17106416542.\n",
            "Iteration 59, inertia 148758.13989541258.\n",
            "Iteration 60, inertia 148756.58259665017.\n",
            "Iteration 61, inertia 148755.3511166588.\n",
            "Iteration 62, inertia 148754.88799485553.\n",
            "Iteration 63, inertia 148754.6118909866.\n",
            "Converged at iteration 63: center shift 2.8381193425438286e-05 within tolerance 8.333333333333372e-05.\n",
            "Initialization complete\n",
            "Iteration 0, inertia 177093.7778376083.\n",
            "Iteration 1, inertia 160487.72143994653.\n",
            "Iteration 2, inertia 156805.77936167864.\n",
            "Iteration 3, inertia 154469.8939541941.\n",
            "Iteration 4, inertia 152952.41667673818.\n",
            "Iteration 5, inertia 151824.70098470594.\n",
            "Iteration 6, inertia 151062.8543239104.\n",
            "Iteration 7, inertia 150439.61971124395.\n",
            "Iteration 8, inertia 149955.9086541595.\n",
            "Iteration 9, inertia 149639.42552803343.\n",
            "Iteration 10, inertia 149409.1776452158.\n",
            "Iteration 11, inertia 149247.3110248588.\n",
            "Iteration 12, inertia 149105.22789346095.\n",
            "Iteration 13, inertia 149022.05860754885.\n",
            "Iteration 14, inertia 148954.03201041181.\n",
            "Iteration 15, inertia 148895.93788328388.\n",
            "Iteration 16, inertia 148836.8397844893.\n",
            "Iteration 17, inertia 148787.6804603733.\n",
            "Iteration 18, inertia 148750.89880901072.\n",
            "Iteration 19, inertia 148710.28855421886.\n",
            "Iteration 20, inertia 148665.29058209521.\n",
            "Iteration 21, inertia 148605.68131417883.\n",
            "Iteration 22, inertia 148547.9902843916.\n",
            "Iteration 23, inertia 148483.86540434908.\n",
            "Iteration 24, inertia 148425.05753513685.\n",
            "Iteration 25, inertia 148384.94894462594.\n",
            "Iteration 26, inertia 148338.1616008463.\n",
            "Iteration 27, inertia 148242.58075424103.\n",
            "Iteration 28, inertia 148124.3335415384.\n",
            "Iteration 29, inertia 148077.00303090696.\n",
            "Iteration 30, inertia 148039.28437036579.\n",
            "Iteration 31, inertia 148008.1109107132.\n",
            "Iteration 32, inertia 147980.5013707569.\n",
            "Iteration 33, inertia 147961.6431321531.\n",
            "Iteration 34, inertia 147940.39757950619.\n",
            "Iteration 35, inertia 147916.80050795953.\n",
            "Iteration 36, inertia 147896.40609545296.\n",
            "Iteration 37, inertia 147876.85177347378.\n",
            "Iteration 38, inertia 147860.92681291094.\n",
            "Iteration 39, inertia 147847.10059240274.\n",
            "Iteration 40, inertia 147836.64041289475.\n",
            "Iteration 41, inertia 147828.93737504128.\n",
            "Iteration 42, inertia 147822.95241033344.\n",
            "Iteration 43, inertia 147818.32206826427.\n",
            "Iteration 44, inertia 147814.9744422459.\n",
            "Iteration 45, inertia 147811.95575105294.\n",
            "Iteration 46, inertia 147808.74885445775.\n",
            "Iteration 47, inertia 147804.05780176178.\n",
            "Iteration 48, inertia 147799.24943296853.\n",
            "Iteration 49, inertia 147791.52906853863.\n",
            "Iteration 50, inertia 147787.85406800752.\n",
            "Iteration 51, inertia 147786.93694538856.\n",
            "Iteration 52, inertia 147786.05083517134.\n",
            "Iteration 53, inertia 147785.26150440774.\n",
            "Iteration 54, inertia 147784.28446394426.\n",
            "Iteration 55, inertia 147781.95281239363.\n",
            "Iteration 56, inertia 147781.5190393977.\n",
            "Iteration 57, inertia 147780.97960023212.\n",
            "Iteration 58, inertia 147780.42143290894.\n",
            "Iteration 59, inertia 147780.1022441837.\n",
            "Iteration 60, inertia 147779.82825046458.\n",
            "Iteration 61, inertia 147779.40913318383.\n",
            "Iteration 62, inertia 147779.0679320629.\n",
            "Iteration 63, inertia 147778.59014714597.\n",
            "Iteration 64, inertia 147777.53400893058.\n",
            "Iteration 65, inertia 147776.61040333952.\n",
            "Iteration 66, inertia 147775.86610396716.\n",
            "Iteration 67, inertia 147775.03380780996.\n",
            "Iteration 68, inertia 147774.4505689758.\n",
            "Iteration 69, inertia 147773.79574080944.\n",
            "Iteration 70, inertia 147773.3555816707.\n",
            "Iteration 71, inertia 147773.01149803778.\n",
            "Iteration 72, inertia 147772.49813204148.\n",
            "Iteration 73, inertia 147772.09774639006.\n",
            "Iteration 74, inertia 147771.91748341708.\n",
            "Iteration 75, inertia 147771.73119943333.\n",
            "Iteration 76, inertia 147771.5794553191.\n",
            "Converged at iteration 76: center shift 5.018587488706628e-05 within tolerance 8.333333333333372e-05.\n",
            "Initialization complete\n",
            "Iteration 0, inertia 179341.52247626206.\n",
            "Iteration 1, inertia 160497.38759864963.\n",
            "Iteration 2, inertia 155758.97990036214.\n",
            "Iteration 3, inertia 153575.4257664201.\n",
            "Iteration 4, inertia 152315.38527027107.\n",
            "Iteration 5, inertia 151631.2422296682.\n",
            "Iteration 6, inertia 151145.7998488082.\n",
            "Iteration 7, inertia 150779.8900609936.\n",
            "Iteration 8, inertia 150460.9746928173.\n",
            "Iteration 9, inertia 150194.14766324798.\n",
            "Iteration 10, inertia 149916.48270474683.\n",
            "Iteration 11, inertia 149596.54354716744.\n",
            "Iteration 12, inertia 149249.8089754624.\n",
            "Iteration 13, inertia 148913.45371154934.\n",
            "Iteration 14, inertia 148624.82252635283.\n",
            "Iteration 15, inertia 148398.13454745268.\n",
            "Iteration 16, inertia 148294.83036756841.\n",
            "Iteration 17, inertia 148186.5971409513.\n",
            "Iteration 18, inertia 148138.26065898634.\n",
            "Iteration 19, inertia 148102.16769648893.\n",
            "Iteration 20, inertia 148075.4397008064.\n",
            "Iteration 21, inertia 148045.29343583604.\n",
            "Iteration 22, inertia 148006.54069709295.\n",
            "Iteration 23, inertia 147967.4314331628.\n",
            "Iteration 24, inertia 147943.7655152319.\n",
            "Iteration 25, inertia 147924.74370896915.\n",
            "Iteration 26, inertia 147909.46499711974.\n",
            "Iteration 27, inertia 147898.7055646314.\n",
            "Iteration 28, inertia 147887.37193057354.\n",
            "Iteration 29, inertia 147877.19457530478.\n",
            "Iteration 30, inertia 147866.80122641873.\n",
            "Iteration 31, inertia 147858.10637010445.\n",
            "Iteration 32, inertia 147848.082175374.\n",
            "Iteration 33, inertia 147836.0207810358.\n",
            "Iteration 34, inertia 147826.01942751114.\n",
            "Iteration 35, inertia 147816.00755577622.\n",
            "Iteration 36, inertia 147805.5152560026.\n",
            "Iteration 37, inertia 147795.1396286957.\n",
            "Iteration 38, inertia 147785.73897057338.\n",
            "Iteration 39, inertia 147776.54204774002.\n",
            "Iteration 40, inertia 147766.36192840285.\n",
            "Iteration 41, inertia 147753.81581905793.\n",
            "Iteration 42, inertia 147738.74072338446.\n",
            "Iteration 43, inertia 147723.24599926174.\n",
            "Iteration 44, inertia 147704.15343741834.\n",
            "Iteration 45, inertia 147677.84834445798.\n",
            "Iteration 46, inertia 147655.4655137458.\n",
            "Iteration 47, inertia 147641.033895856.\n",
            "Iteration 48, inertia 147624.53326787904.\n",
            "Iteration 49, inertia 147606.0954656874.\n",
            "Iteration 50, inertia 147584.15212518035.\n",
            "Iteration 51, inertia 147567.07258048575.\n",
            "Iteration 52, inertia 147549.2517991282.\n",
            "Iteration 53, inertia 147532.01829392315.\n",
            "Iteration 54, inertia 147511.83506344561.\n",
            "Iteration 55, inertia 147490.5264382673.\n",
            "Iteration 56, inertia 147471.23593558447.\n",
            "Iteration 57, inertia 147453.6118065686.\n",
            "Iteration 58, inertia 147436.3476095858.\n",
            "Iteration 59, inertia 147414.07059033908.\n",
            "Iteration 60, inertia 147380.49673830174.\n",
            "Iteration 61, inertia 147347.33070002293.\n",
            "Iteration 62, inertia 147326.1728557373.\n",
            "Iteration 63, inertia 147309.65304902956.\n",
            "Iteration 64, inertia 147293.18151462756.\n",
            "Iteration 65, inertia 147282.2445972479.\n",
            "Iteration 66, inertia 147269.82640417013.\n",
            "Iteration 67, inertia 147255.47507838355.\n",
            "Iteration 68, inertia 147241.96514501056.\n",
            "Iteration 69, inertia 147225.20534788523.\n",
            "Iteration 70, inertia 147202.2723433672.\n",
            "Iteration 71, inertia 147184.07495284136.\n",
            "Iteration 72, inertia 147160.4041924728.\n",
            "Iteration 73, inertia 147134.9922199598.\n",
            "Iteration 74, inertia 147107.95083471038.\n",
            "Iteration 75, inertia 147075.5404558646.\n",
            "Iteration 76, inertia 147042.02788547042.\n",
            "Iteration 77, inertia 147005.0848625702.\n",
            "Iteration 78, inertia 146964.68163063133.\n",
            "Iteration 79, inertia 146925.55013467674.\n",
            "Iteration 80, inertia 146889.80107343805.\n",
            "Iteration 81, inertia 146848.3248110407.\n",
            "Iteration 82, inertia 146808.32162072623.\n",
            "Iteration 83, inertia 146772.3516539759.\n",
            "Iteration 84, inertia 146743.2413496202.\n",
            "Iteration 85, inertia 146716.77395102952.\n",
            "Iteration 86, inertia 146696.52628493056.\n",
            "Iteration 87, inertia 146680.8415912503.\n",
            "Iteration 88, inertia 146667.1005671044.\n",
            "Iteration 89, inertia 146653.0509331289.\n",
            "Iteration 90, inertia 146639.84033698408.\n",
            "Iteration 91, inertia 146625.8318680717.\n",
            "Iteration 92, inertia 146612.30800789213.\n",
            "Iteration 93, inertia 146600.01829400918.\n",
            "Iteration 94, inertia 146587.64416654222.\n",
            "Iteration 95, inertia 146574.74477502948.\n",
            "Iteration 96, inertia 146559.889112203.\n",
            "Iteration 97, inertia 146542.53457968796.\n",
            "Iteration 98, inertia 146520.27223042454.\n",
            "Iteration 99, inertia 146503.14574501148.\n",
            "Iteration 100, inertia 146490.17962410316.\n",
            "Iteration 101, inertia 146477.0100974088.\n",
            "Iteration 102, inertia 146465.5362470811.\n",
            "Iteration 103, inertia 146456.97418231683.\n",
            "Iteration 104, inertia 146444.693279362.\n",
            "Iteration 105, inertia 146435.10108869197.\n",
            "Iteration 106, inertia 146424.41877363695.\n",
            "Iteration 107, inertia 146413.68080510714.\n",
            "Iteration 108, inertia 146404.8466867594.\n",
            "Iteration 109, inertia 146399.63062401995.\n",
            "Iteration 110, inertia 146384.1038222771.\n",
            "Iteration 111, inertia 146335.48974907963.\n",
            "Iteration 112, inertia 146170.2296270521.\n",
            "Iteration 113, inertia 146105.85166915978.\n",
            "Iteration 114, inertia 146081.58389439425.\n",
            "Iteration 115, inertia 146052.83396806612.\n",
            "Iteration 116, inertia 146024.43798316043.\n",
            "Iteration 117, inertia 146012.40805272266.\n",
            "Iteration 118, inertia 146004.01829488258.\n",
            "Iteration 119, inertia 145993.0810606661.\n",
            "Iteration 120, inertia 145982.72759494517.\n",
            "Iteration 121, inertia 145976.45784382283.\n",
            "Iteration 122, inertia 145974.97013209548.\n",
            "Iteration 123, inertia 145972.2082395829.\n",
            "Iteration 124, inertia 145969.8289260961.\n",
            "Iteration 125, inertia 145967.28204976753.\n",
            "Iteration 126, inertia 145964.62801940745.\n",
            "Iteration 127, inertia 145961.96292760965.\n",
            "Iteration 128, inertia 145960.58981052926.\n",
            "Iteration 129, inertia 145958.64404966406.\n",
            "Iteration 130, inertia 145957.55765787765.\n",
            "Iteration 131, inertia 145955.13971393247.\n",
            "Iteration 132, inertia 145949.99330426977.\n",
            "Iteration 133, inertia 145945.81570350536.\n",
            "Iteration 134, inertia 145936.0768876251.\n",
            "Iteration 135, inertia 145918.7288877915.\n",
            "Iteration 136, inertia 145907.71670548257.\n",
            "Iteration 137, inertia 145901.1194616233.\n",
            "Iteration 138, inertia 145897.22343038185.\n",
            "Iteration 139, inertia 145894.947513293.\n",
            "Iteration 140, inertia 145892.72237066392.\n",
            "Iteration 141, inertia 145889.73361474808.\n",
            "Iteration 142, inertia 145885.58583477247.\n",
            "Iteration 143, inertia 145881.41972545997.\n",
            "Iteration 144, inertia 145879.97799236255.\n",
            "Iteration 145, inertia 145878.2950361719.\n",
            "Iteration 146, inertia 145876.76002557582.\n",
            "Iteration 147, inertia 145875.86435610463.\n",
            "Iteration 148, inertia 145875.3767233916.\n",
            "Iteration 149, inertia 145874.90709967032.\n",
            "Iteration 150, inertia 145873.86495687216.\n",
            "Iteration 151, inertia 145872.13664237177.\n",
            "Iteration 152, inertia 145871.46226894393.\n",
            "Iteration 153, inertia 145870.795951767.\n",
            "Iteration 154, inertia 145870.42413719057.\n",
            "Iteration 155, inertia 145870.09371998365.\n",
            "Iteration 156, inertia 145869.89442620488.\n",
            "Iteration 157, inertia 145869.38666405267.\n",
            "Iteration 158, inertia 145868.40651137184.\n",
            "Iteration 159, inertia 145867.5445548401.\n",
            "Iteration 160, inertia 145865.9797835847.\n",
            "Iteration 161, inertia 145865.1925912513.\n",
            "Iteration 162, inertia 145864.40811799557.\n",
            "Iteration 163, inertia 145864.13275298773.\n",
            "Iteration 164, inertia 145864.01976660732.\n",
            "Converged at iteration 164: center shift 3.3766321380160474e-06 within tolerance 8.333333333333372e-05.\n",
            "Initialization complete\n",
            "Iteration 0, inertia 177733.9335384375.\n",
            "Iteration 1, inertia 159644.3569272914.\n",
            "Iteration 2, inertia 154951.58730894537.\n",
            "Iteration 3, inertia 153080.10777839256.\n",
            "Iteration 4, inertia 151696.5036229699.\n",
            "Iteration 5, inertia 150710.86600097796.\n",
            "Iteration 6, inertia 149770.87383407433.\n",
            "Iteration 7, inertia 149152.9007155441.\n",
            "Iteration 8, inertia 148815.35084040332.\n",
            "Iteration 9, inertia 148561.22858697886.\n",
            "Iteration 10, inertia 148318.0475074107.\n",
            "Iteration 11, inertia 148136.13840380075.\n",
            "Iteration 12, inertia 147982.89248883413.\n",
            "Iteration 13, inertia 147858.10825076126.\n",
            "Iteration 14, inertia 147650.22579366248.\n",
            "Iteration 15, inertia 147483.68083646917.\n",
            "Iteration 16, inertia 147310.51946215017.\n",
            "Iteration 17, inertia 147146.97651475327.\n",
            "Iteration 18, inertia 146978.58166302333.\n",
            "Iteration 19, inertia 146873.08389962913.\n",
            "Iteration 20, inertia 146797.54374957882.\n",
            "Iteration 21, inertia 146723.62485357394.\n",
            "Iteration 22, inertia 146664.31891060423.\n",
            "Iteration 23, inertia 146627.41540517317.\n",
            "Iteration 24, inertia 146594.2090689195.\n",
            "Iteration 25, inertia 146557.09570541792.\n",
            "Iteration 26, inertia 146507.73896721425.\n",
            "Iteration 27, inertia 146457.7514105056.\n",
            "Iteration 28, inertia 146408.46091926596.\n",
            "Iteration 29, inertia 146352.81746300255.\n",
            "Iteration 30, inertia 146301.8427067038.\n",
            "Iteration 31, inertia 146237.8492765642.\n",
            "Iteration 32, inertia 146180.29052036116.\n",
            "Iteration 33, inertia 146148.1991896443.\n",
            "Iteration 34, inertia 146120.56195872778.\n",
            "Iteration 35, inertia 146103.9125516611.\n",
            "Iteration 36, inertia 146082.22014146583.\n",
            "Iteration 37, inertia 146055.99599903548.\n",
            "Iteration 38, inertia 146036.69396821398.\n",
            "Iteration 39, inertia 146024.17229489793.\n",
            "Iteration 40, inertia 146015.50453737643.\n",
            "Iteration 41, inertia 146011.2881870133.\n",
            "Iteration 42, inertia 146007.88982449588.\n",
            "Iteration 43, inertia 146005.4649496602.\n",
            "Iteration 44, inertia 146000.6764222261.\n",
            "Iteration 45, inertia 145994.71440151194.\n",
            "Iteration 46, inertia 145984.90722121362.\n",
            "Iteration 47, inertia 145972.46679043674.\n",
            "Iteration 48, inertia 145959.05645622435.\n",
            "Iteration 49, inertia 145949.77420651654.\n",
            "Iteration 50, inertia 145947.02711464395.\n",
            "Iteration 51, inertia 145946.02097323912.\n",
            "Iteration 52, inertia 145944.60706662544.\n",
            "Iteration 53, inertia 145943.66765419833.\n",
            "Iteration 54, inertia 145943.04668878418.\n",
            "Iteration 55, inertia 145942.47294020807.\n",
            "Iteration 56, inertia 145941.96822443686.\n",
            "Iteration 57, inertia 145941.6264972361.\n",
            "Iteration 58, inertia 145941.2783605694.\n",
            "Iteration 59, inertia 145940.63886505985.\n",
            "Converged at iteration 59: center shift 7.334624448771454e-05 within tolerance 8.333333333333372e-05.\n",
            "Initialization complete\n",
            "Iteration 0, inertia 178322.80775887877.\n",
            "Iteration 1, inertia 161196.8146494131.\n",
            "Iteration 2, inertia 156207.48377314143.\n",
            "Iteration 3, inertia 153449.0292758875.\n",
            "Iteration 4, inertia 151118.84954388192.\n",
            "Iteration 5, inertia 149716.30633699422.\n",
            "Iteration 6, inertia 148747.24047492462.\n",
            "Iteration 7, inertia 148041.4627916089.\n",
            "Iteration 8, inertia 147656.46652463873.\n",
            "Iteration 9, inertia 147372.9791675446.\n",
            "Iteration 10, inertia 147121.89445464124.\n",
            "Iteration 11, inertia 146909.46667956837.\n",
            "Iteration 12, inertia 146714.78350123376.\n",
            "Iteration 13, inertia 146561.91788275554.\n",
            "Iteration 14, inertia 146396.13196352223.\n",
            "Iteration 15, inertia 146309.44233454994.\n",
            "Iteration 16, inertia 146229.61621814693.\n",
            "Iteration 17, inertia 146172.43793252052.\n",
            "Iteration 18, inertia 146116.1644821066.\n",
            "Iteration 19, inertia 146078.8565363297.\n",
            "Iteration 20, inertia 146036.47804068367.\n",
            "Iteration 21, inertia 145990.61490952896.\n",
            "Iteration 22, inertia 145963.96909895865.\n",
            "Iteration 23, inertia 145929.92315496266.\n",
            "Iteration 24, inertia 145899.13225135423.\n",
            "Iteration 25, inertia 145868.65865125178.\n",
            "Iteration 26, inertia 145839.15050825122.\n",
            "Iteration 27, inertia 145796.63128363894.\n",
            "Iteration 28, inertia 145738.81135486384.\n",
            "Iteration 29, inertia 145689.41345730357.\n",
            "Iteration 30, inertia 145642.86652780458.\n",
            "Iteration 31, inertia 145598.26511813045.\n",
            "Iteration 32, inertia 145569.0804816084.\n",
            "Iteration 33, inertia 145544.4825416524.\n",
            "Iteration 34, inertia 145523.7032311539.\n",
            "Iteration 35, inertia 145504.1968602752.\n",
            "Iteration 36, inertia 145490.2276455806.\n",
            "Iteration 37, inertia 145480.12222940865.\n",
            "Iteration 38, inertia 145469.80586286393.\n",
            "Iteration 39, inertia 145461.32621574515.\n",
            "Iteration 40, inertia 145454.05620612268.\n",
            "Iteration 41, inertia 145449.65383985825.\n",
            "Iteration 42, inertia 145446.46108366805.\n",
            "Iteration 43, inertia 145444.3165688824.\n",
            "Iteration 44, inertia 145442.55210314406.\n",
            "Iteration 45, inertia 145438.83576734233.\n",
            "Iteration 46, inertia 145436.16093560695.\n",
            "Iteration 47, inertia 145431.90334469025.\n",
            "Iteration 48, inertia 145427.01971426592.\n",
            "Iteration 49, inertia 145425.0763742631.\n",
            "Iteration 50, inertia 145423.88357731677.\n",
            "Iteration 51, inertia 145423.12386725598.\n",
            "Iteration 52, inertia 145422.69913602466.\n",
            "Converged at iteration 52: center shift 6.247373182604529e-05 within tolerance 8.333333333333372e-05.\n",
            "Initialization complete\n",
            "Iteration 0, inertia 182710.92903418053.\n",
            "Iteration 1, inertia 163442.34882316194.\n",
            "Iteration 2, inertia 157512.5068940524.\n",
            "Iteration 3, inertia 155228.05086387496.\n",
            "Iteration 4, inertia 154041.84489738065.\n",
            "Iteration 5, inertia 153133.17395843047.\n",
            "Iteration 6, inertia 152543.34270027056.\n",
            "Iteration 7, inertia 152071.10537145988.\n",
            "Iteration 8, inertia 151694.43058156586.\n",
            "Iteration 9, inertia 151361.4089064996.\n",
            "Iteration 10, inertia 151094.49480496658.\n",
            "Iteration 11, inertia 150868.38628141148.\n",
            "Iteration 12, inertia 150681.91989568455.\n",
            "Iteration 13, inertia 150521.548735524.\n",
            "Iteration 14, inertia 150392.47183203665.\n",
            "Iteration 15, inertia 150291.10830816726.\n",
            "Iteration 16, inertia 150197.64431653026.\n",
            "Iteration 17, inertia 150117.2695842325.\n",
            "Iteration 18, inertia 150049.54740199778.\n",
            "Iteration 19, inertia 149983.78848997806.\n",
            "Iteration 20, inertia 149915.26601580603.\n",
            "Iteration 21, inertia 149863.38040648084.\n",
            "Iteration 22, inertia 149801.33947014337.\n",
            "Iteration 23, inertia 149725.82720070655.\n",
            "Iteration 24, inertia 149664.25135009567.\n",
            "Iteration 25, inertia 149609.38243941148.\n",
            "Iteration 26, inertia 149569.24383719062.\n",
            "Iteration 27, inertia 149526.49413583014.\n",
            "Iteration 28, inertia 149497.95988411692.\n",
            "Iteration 29, inertia 149471.03658100916.\n",
            "Iteration 30, inertia 149442.05178456876.\n",
            "Iteration 31, inertia 149411.18707381957.\n",
            "Iteration 32, inertia 149372.06959558852.\n",
            "Iteration 33, inertia 149323.39428041296.\n",
            "Iteration 34, inertia 149278.1136544487.\n",
            "Iteration 35, inertia 149221.5523285189.\n",
            "Iteration 36, inertia 149167.680407354.\n",
            "Iteration 37, inertia 149111.08252838504.\n",
            "Iteration 38, inertia 149064.285245922.\n",
            "Iteration 39, inertia 149029.15131637873.\n",
            "Iteration 40, inertia 149003.48803753642.\n",
            "Iteration 41, inertia 148971.4890180837.\n",
            "Iteration 42, inertia 148948.1742607217.\n",
            "Iteration 43, inertia 148921.79541759245.\n",
            "Iteration 44, inertia 148876.90633930668.\n",
            "Iteration 45, inertia 148857.3000408544.\n",
            "Iteration 46, inertia 148839.15136834697.\n",
            "Iteration 47, inertia 148820.3077939913.\n",
            "Iteration 48, inertia 148800.42704201976.\n",
            "Iteration 49, inertia 148774.8355297173.\n",
            "Iteration 50, inertia 148754.53370381097.\n",
            "Iteration 51, inertia 148736.89622575298.\n",
            "Iteration 52, inertia 148722.69331982362.\n",
            "Iteration 53, inertia 148706.48626993137.\n",
            "Iteration 54, inertia 148687.5908883512.\n",
            "Iteration 55, inertia 148672.68866561266.\n",
            "Iteration 56, inertia 148652.82783740814.\n",
            "Iteration 57, inertia 148626.2469303329.\n",
            "Iteration 58, inertia 148601.09717648293.\n",
            "Iteration 59, inertia 148571.87984673883.\n",
            "Iteration 60, inertia 148538.05585755385.\n",
            "Iteration 61, inertia 148497.29091716508.\n",
            "Iteration 62, inertia 148453.7877193168.\n",
            "Iteration 63, inertia 148407.57820036844.\n",
            "Iteration 64, inertia 148361.7573578959.\n",
            "Iteration 65, inertia 148317.29702631762.\n",
            "Iteration 66, inertia 148278.7941017638.\n",
            "Iteration 67, inertia 148234.338527196.\n",
            "Iteration 68, inertia 148190.76959025528.\n",
            "Iteration 69, inertia 148135.50008612682.\n",
            "Iteration 70, inertia 148088.50210084298.\n",
            "Iteration 71, inertia 148054.09902889628.\n",
            "Iteration 72, inertia 148006.03651133814.\n",
            "Iteration 73, inertia 147967.95408382773.\n",
            "Iteration 74, inertia 147950.22202022307.\n",
            "Iteration 75, inertia 147928.7525963402.\n",
            "Iteration 76, inertia 147909.70985454225.\n",
            "Iteration 77, inertia 147885.0470718901.\n",
            "Iteration 78, inertia 147869.34793832866.\n",
            "Iteration 79, inertia 147856.81249766168.\n",
            "Iteration 80, inertia 147850.6857412383.\n",
            "Iteration 81, inertia 147843.594521902.\n",
            "Iteration 82, inertia 147837.8372985383.\n",
            "Iteration 83, inertia 147831.965570934.\n",
            "Iteration 84, inertia 147824.2725235457.\n",
            "Iteration 85, inertia 147818.65654220554.\n",
            "Iteration 86, inertia 147813.48230650276.\n",
            "Iteration 87, inertia 147808.78814522517.\n",
            "Iteration 88, inertia 147799.7986477566.\n",
            "Iteration 89, inertia 147777.53971110008.\n",
            "Iteration 90, inertia 147761.84260280035.\n",
            "Iteration 91, inertia 147746.96970336104.\n",
            "Iteration 92, inertia 147696.09403709875.\n",
            "Iteration 93, inertia 147675.94491088847.\n",
            "Iteration 94, inertia 147671.3817330482.\n",
            "Iteration 95, inertia 147665.82880062005.\n",
            "Iteration 96, inertia 147660.71153182373.\n",
            "Iteration 97, inertia 147645.45740836277.\n",
            "Iteration 98, inertia 147614.3118172941.\n",
            "Iteration 99, inertia 147589.189760721.\n",
            "Iteration 100, inertia 147564.65948671952.\n",
            "Iteration 101, inertia 147548.5006533474.\n",
            "Iteration 102, inertia 147534.93498404845.\n",
            "Iteration 103, inertia 147524.69127645608.\n",
            "Iteration 104, inertia 147512.45213680912.\n",
            "Iteration 105, inertia 147497.78464482998.\n",
            "Iteration 106, inertia 147485.28727130117.\n",
            "Iteration 107, inertia 147468.65923044627.\n",
            "Iteration 108, inertia 147456.9161278551.\n",
            "Iteration 109, inertia 147436.9832650539.\n",
            "Iteration 110, inertia 147416.2886456584.\n",
            "Iteration 111, inertia 147402.96587996278.\n",
            "Iteration 112, inertia 147396.14380291608.\n",
            "Iteration 113, inertia 147392.13278407132.\n",
            "Iteration 114, inertia 147387.28175332284.\n",
            "Iteration 115, inertia 147381.02642408284.\n",
            "Iteration 116, inertia 147378.0840371112.\n",
            "Iteration 117, inertia 147377.24753883822.\n",
            "Iteration 118, inertia 147376.11431794884.\n",
            "Iteration 119, inertia 147375.3387432298.\n",
            "Iteration 120, inertia 147374.86055473992.\n",
            "Iteration 121, inertia 147374.63658079383.\n",
            "Iteration 122, inertia 147374.51673893456.\n",
            "Iteration 123, inertia 147374.39068069705.\n",
            "Converged at iteration 123: center shift 2.844929002615936e-05 within tolerance 8.333333333333372e-05.\n"
          ]
        }
      ]
    },
    {
      "cell_type": "markdown",
      "source": [
        "We now have a set of cluster labels that group the data into 50 similar groups. Let's store it in our stacked dataset!"
      ],
      "metadata": {
        "id": "XZXYUggc8xex"
      }
    },
    {
      "cell_type": "code",
      "source": [
        "# Let's run this line\n",
        "stacked['clusters'].values = cluster_labels"
      ],
      "metadata": {
        "id": "aH0qNHM89GER"
      },
      "execution_count": 30,
      "outputs": []
    },
    {
      "cell_type": "markdown",
      "source": [
        "## Visualization"
      ],
      "metadata": {
        "id": "inC84qGpRLh5"
      }
    },
    {
      "cell_type": "markdown",
      "source": [
        "We now have a set of labels, but they're stored in a flattened array. Since we'd like to see the data as a map, we still have some work to do. Let's go back to a 2D representation of our values.\n",
        "\n",
        "### Q10) Turn the flattened xarray back into a set of 2D fields\n",
        "*Hint*: xarrays have an [`.unstack` method](https://xarray.pydata.org/en/stable/generated/xarray.DataArray.unstack.html) that you will find to be very useful for this."
      ],
      "metadata": {
        "id": "pFPN00oH9oI8"
      }
    },
    {
      "cell_type": "code",
      "source": [
        "# Complete the code:\n",
        "processed_ds = ds.unstack()"
      ],
      "metadata": {
        "id": "lp1u28inKUNT"
      },
      "execution_count": 31,
      "outputs": []
    },
    {
      "cell_type": "markdown",
      "source": [
        "Now we have an unstacked dataset, and can now easily plot out the clusters we found!\n",
        "\n",
        "### Q11) Plot the 'cluster' variable using the built-in xarray function\n",
        "*Hint: `.plot()` [link text](https://xarray.pydata.org/en/stable/generated/xarray.DataArray.plot.html) let's you access the xarray implementations of [`pcolormesh`](https://matplotlib.org/3.1.1/api/_as_gen/matplotlib.pyplot.pcolormesh.html) and [`imshow`](https://matplotlib.org/3.1.1/api/_as_gen/matplotlib.pyplot.imshow.html).*"
      ],
      "metadata": {
        "id": "y4w0zUDn8OOU"
      }
    },
    {
      "cell_type": "code",
      "source": [
        "processed_ds['cluster'].plot()"
      ],
      "metadata": {
        "id": "DLLCcgw_n3tu",
        "colab": {
          "base_uri": "https://localhost:8080/",
          "height": 543
        },
        "outputId": "accd4319-5bcc-4531-bd53-0d1adfacaccc"
      },
      "execution_count": 33,
      "outputs": [
        {
          "output_type": "error",
          "ename": "KeyError",
          "evalue": "\"No variable named 'cluster'. Variables on the dataset include ['lat', 'lon', 'curlA', 'noiseMask', 'BPT', 'curlCori', 'curlTau', 'curlB', 'clusters']\"",
          "traceback": [
            "\u001b[0;31m---------------------------------------------------------------------------\u001b[0m",
            "\u001b[0;31mKeyError\u001b[0m                                  Traceback (most recent call last)",
            "\u001b[0;32m/usr/local/lib/python3.10/dist-packages/xarray/core/dataset.py\u001b[0m in \u001b[0;36m_construct_dataarray\u001b[0;34m(self, name)\u001b[0m\n\u001b[1;32m   1481\u001b[0m         \u001b[0;32mtry\u001b[0m\u001b[0;34m:\u001b[0m\u001b[0;34m\u001b[0m\u001b[0;34m\u001b[0m\u001b[0m\n\u001b[0;32m-> 1482\u001b[0;31m             \u001b[0mvariable\u001b[0m \u001b[0;34m=\u001b[0m \u001b[0mself\u001b[0m\u001b[0;34m.\u001b[0m\u001b[0m_variables\u001b[0m\u001b[0;34m[\u001b[0m\u001b[0mname\u001b[0m\u001b[0;34m]\u001b[0m\u001b[0;34m\u001b[0m\u001b[0;34m\u001b[0m\u001b[0m\n\u001b[0m\u001b[1;32m   1483\u001b[0m         \u001b[0;32mexcept\u001b[0m \u001b[0mKeyError\u001b[0m\u001b[0;34m:\u001b[0m\u001b[0;34m\u001b[0m\u001b[0;34m\u001b[0m\u001b[0m\n",
            "\u001b[0;31mKeyError\u001b[0m: 'cluster'",
            "\nDuring handling of the above exception, another exception occurred:\n",
            "\u001b[0;31mKeyError\u001b[0m                                  Traceback (most recent call last)",
            "\u001b[0;32m/usr/local/lib/python3.10/dist-packages/xarray/core/dataset.py\u001b[0m in \u001b[0;36m__getitem__\u001b[0;34m(self, key)\u001b[0m\n\u001b[1;32m   1580\u001b[0m             \u001b[0;32mtry\u001b[0m\u001b[0;34m:\u001b[0m\u001b[0;34m\u001b[0m\u001b[0;34m\u001b[0m\u001b[0m\n\u001b[0;32m-> 1581\u001b[0;31m                 \u001b[0;32mreturn\u001b[0m \u001b[0mself\u001b[0m\u001b[0;34m.\u001b[0m\u001b[0m_construct_dataarray\u001b[0m\u001b[0;34m(\u001b[0m\u001b[0mkey\u001b[0m\u001b[0;34m)\u001b[0m\u001b[0;34m\u001b[0m\u001b[0;34m\u001b[0m\u001b[0m\n\u001b[0m\u001b[1;32m   1582\u001b[0m             \u001b[0;32mexcept\u001b[0m \u001b[0mKeyError\u001b[0m \u001b[0;32mas\u001b[0m \u001b[0me\u001b[0m\u001b[0;34m:\u001b[0m\u001b[0;34m\u001b[0m\u001b[0;34m\u001b[0m\u001b[0m\n",
            "\u001b[0;32m/usr/local/lib/python3.10/dist-packages/xarray/core/dataset.py\u001b[0m in \u001b[0;36m_construct_dataarray\u001b[0;34m(self, name)\u001b[0m\n\u001b[1;32m   1483\u001b[0m         \u001b[0;32mexcept\u001b[0m \u001b[0mKeyError\u001b[0m\u001b[0;34m:\u001b[0m\u001b[0;34m\u001b[0m\u001b[0;34m\u001b[0m\u001b[0m\n\u001b[0;32m-> 1484\u001b[0;31m             \u001b[0m_\u001b[0m\u001b[0;34m,\u001b[0m \u001b[0mname\u001b[0m\u001b[0;34m,\u001b[0m \u001b[0mvariable\u001b[0m \u001b[0;34m=\u001b[0m \u001b[0m_get_virtual_variable\u001b[0m\u001b[0;34m(\u001b[0m\u001b[0mself\u001b[0m\u001b[0;34m.\u001b[0m\u001b[0m_variables\u001b[0m\u001b[0;34m,\u001b[0m \u001b[0mname\u001b[0m\u001b[0;34m,\u001b[0m \u001b[0mself\u001b[0m\u001b[0;34m.\u001b[0m\u001b[0msizes\u001b[0m\u001b[0;34m)\u001b[0m\u001b[0;34m\u001b[0m\u001b[0;34m\u001b[0m\u001b[0m\n\u001b[0m\u001b[1;32m   1485\u001b[0m \u001b[0;34m\u001b[0m\u001b[0m\n",
            "\u001b[0;32m/usr/local/lib/python3.10/dist-packages/xarray/core/dataset.py\u001b[0m in \u001b[0;36m_get_virtual_variable\u001b[0;34m(variables, key, dim_sizes)\u001b[0m\n\u001b[1;32m    217\u001b[0m     \u001b[0;32mif\u001b[0m \u001b[0mlen\u001b[0m\u001b[0;34m(\u001b[0m\u001b[0msplit_key\u001b[0m\u001b[0;34m)\u001b[0m \u001b[0;34m!=\u001b[0m \u001b[0;36m2\u001b[0m\u001b[0;34m:\u001b[0m\u001b[0;34m\u001b[0m\u001b[0;34m\u001b[0m\u001b[0m\n\u001b[0;32m--> 218\u001b[0;31m         \u001b[0;32mraise\u001b[0m \u001b[0mKeyError\u001b[0m\u001b[0;34m(\u001b[0m\u001b[0mkey\u001b[0m\u001b[0;34m)\u001b[0m\u001b[0;34m\u001b[0m\u001b[0;34m\u001b[0m\u001b[0m\n\u001b[0m\u001b[1;32m    219\u001b[0m \u001b[0;34m\u001b[0m\u001b[0m\n",
            "\u001b[0;31mKeyError\u001b[0m: 'cluster'",
            "\nThe above exception was the direct cause of the following exception:\n",
            "\u001b[0;31mKeyError\u001b[0m                                  Traceback (most recent call last)",
            "\u001b[0;32m<ipython-input-33-fbef40665243>\u001b[0m in \u001b[0;36m<cell line: 1>\u001b[0;34m()\u001b[0m\n\u001b[0;32m----> 1\u001b[0;31m \u001b[0mprocessed_ds\u001b[0m\u001b[0;34m[\u001b[0m\u001b[0;34m'cluster'\u001b[0m\u001b[0;34m]\u001b[0m\u001b[0;34m.\u001b[0m\u001b[0mplot\u001b[0m\u001b[0;34m(\u001b[0m\u001b[0;34m)\u001b[0m\u001b[0;34m\u001b[0m\u001b[0;34m\u001b[0m\u001b[0m\n\u001b[0m",
            "\u001b[0;32m/usr/local/lib/python3.10/dist-packages/xarray/core/dataset.py\u001b[0m in \u001b[0;36m__getitem__\u001b[0;34m(self, key)\u001b[0m\n\u001b[1;32m   1585\u001b[0m                 \u001b[0;32mif\u001b[0m \u001b[0misinstance\u001b[0m\u001b[0;34m(\u001b[0m\u001b[0mkey\u001b[0m\u001b[0;34m,\u001b[0m \u001b[0mtuple\u001b[0m\u001b[0;34m)\u001b[0m\u001b[0;34m:\u001b[0m\u001b[0;34m\u001b[0m\u001b[0;34m\u001b[0m\u001b[0m\n\u001b[1;32m   1586\u001b[0m                     \u001b[0mmessage\u001b[0m \u001b[0;34m+=\u001b[0m \u001b[0;34mf\"\\nHint: use a list to select multiple variables, for example `ds[{[d for d in key]}]`\"\u001b[0m\u001b[0;34m\u001b[0m\u001b[0;34m\u001b[0m\u001b[0m\n\u001b[0;32m-> 1587\u001b[0;31m                 \u001b[0;32mraise\u001b[0m \u001b[0mKeyError\u001b[0m\u001b[0;34m(\u001b[0m\u001b[0mmessage\u001b[0m\u001b[0;34m)\u001b[0m \u001b[0;32mfrom\u001b[0m \u001b[0me\u001b[0m\u001b[0;34m\u001b[0m\u001b[0;34m\u001b[0m\u001b[0m\n\u001b[0m\u001b[1;32m   1588\u001b[0m \u001b[0;34m\u001b[0m\u001b[0m\n\u001b[1;32m   1589\u001b[0m         \u001b[0;32mif\u001b[0m \u001b[0mutils\u001b[0m\u001b[0;34m.\u001b[0m\u001b[0miterable_of_hashable\u001b[0m\u001b[0;34m(\u001b[0m\u001b[0mkey\u001b[0m\u001b[0;34m)\u001b[0m\u001b[0;34m:\u001b[0m\u001b[0;34m\u001b[0m\u001b[0;34m\u001b[0m\u001b[0m\n",
            "\u001b[0;31mKeyError\u001b[0m: \"No variable named 'cluster'. Variables on the dataset include ['lat', 'lon', 'curlA', 'noiseMask', 'BPT', 'curlCori', 'curlTau', 'curlB', 'clusters']\""
          ]
        }
      ]
    },
    {
      "cell_type": "markdown",
      "source": [
        "Compare your results to those from the paper:\n",
        "<img src='https://unils-my.sharepoint.com/:i:/g/personal/tom_beucler_unil_ch/EdLh6Ds0yVlFivyfIOXlV74B_G35dVz87GFagzylIG-gZA?download=1'>"
      ],
      "metadata": {
        "id": "sOja6JCxo45g"
      }
    },
    {
      "cell_type": "markdown",
      "source": [
        "We now want to find the 5 most common regimes, and group the rest. This isn't straightforward, so we've gone ahead and prepared the code for you. Run through it and try to understand what the code is doing!"
      ],
      "metadata": {
        "id": "HrLKLVWXtgeX"
      }
    },
    {
      "cell_type": "code",
      "source": [
        "# Make field filled with -1 vals so unprocessed points are easily retrieved.\n",
        "# Noise masked applied automatically by using previously found labels as base.\n",
        "processed_ds['final_clusters'] = (processed_ds.clusters * 0) - 1\n",
        "\n",
        "# Find the 5 most common cluster labels\n",
        "top_clusters = processed_ds.groupby('clusters').count().sortby('BPT').tail(5).clusters.values\n",
        "\n",
        "#Build the set of indices for the cluster data, used for rewriting cluster labels\n",
        "for idx, label in enumerate(top_clusters):\n",
        "    #Find the indices where the label is found\n",
        "    indices = (processed_ds.clusters == label)\n",
        "\n",
        "    processed_ds['final_clusters'].values[indices] = 4-idx\n",
        "\n",
        "# Set the remaining unlabeled regions to category 5 \"non-linear\"\n",
        "processed_ds['final_clusters'].values[processed_ds.final_clusters==-1] = 5\n",
        "\n",
        "# Plot the figure\n",
        "processed_ds.final_clusters.plot.imshow(cmap=mycmap, figsize=(18,8));"
      ],
      "metadata": {
        "id": "UO5OohbKptau",
        "colab": {
          "base_uri": "https://localhost:8080/",
          "height": 365
        },
        "outputId": "2c8e116c-a6cc-4dca-98dd-a38d60266503"
      },
      "execution_count": 34,
      "outputs": [
        {
          "output_type": "error",
          "ename": "ValueError",
          "evalue": "Failed to group data. Are you grouping by a variable that is all NaN?",
          "traceback": [
            "\u001b[0;31m---------------------------------------------------------------------------\u001b[0m",
            "\u001b[0;31mValueError\u001b[0m                                Traceback (most recent call last)",
            "\u001b[0;32m<ipython-input-34-98b44ce23936>\u001b[0m in \u001b[0;36m<cell line: 6>\u001b[0;34m()\u001b[0m\n\u001b[1;32m      4\u001b[0m \u001b[0;34m\u001b[0m\u001b[0m\n\u001b[1;32m      5\u001b[0m \u001b[0;31m# Find the 5 most common cluster labels\u001b[0m\u001b[0;34m\u001b[0m\u001b[0;34m\u001b[0m\u001b[0m\n\u001b[0;32m----> 6\u001b[0;31m \u001b[0mtop_clusters\u001b[0m \u001b[0;34m=\u001b[0m \u001b[0mprocessed_ds\u001b[0m\u001b[0;34m.\u001b[0m\u001b[0mgroupby\u001b[0m\u001b[0;34m(\u001b[0m\u001b[0;34m'clusters'\u001b[0m\u001b[0;34m)\u001b[0m\u001b[0;34m.\u001b[0m\u001b[0mcount\u001b[0m\u001b[0;34m(\u001b[0m\u001b[0;34m)\u001b[0m\u001b[0;34m.\u001b[0m\u001b[0msortby\u001b[0m\u001b[0;34m(\u001b[0m\u001b[0;34m'BPT'\u001b[0m\u001b[0;34m)\u001b[0m\u001b[0;34m.\u001b[0m\u001b[0mtail\u001b[0m\u001b[0;34m(\u001b[0m\u001b[0;36m5\u001b[0m\u001b[0;34m)\u001b[0m\u001b[0;34m.\u001b[0m\u001b[0mclusters\u001b[0m\u001b[0;34m.\u001b[0m\u001b[0mvalues\u001b[0m\u001b[0;34m\u001b[0m\u001b[0;34m\u001b[0m\u001b[0m\n\u001b[0m\u001b[1;32m      7\u001b[0m \u001b[0;34m\u001b[0m\u001b[0m\n\u001b[1;32m      8\u001b[0m \u001b[0;31m#Build the set of indices for the cluster data, used for rewriting cluster labels\u001b[0m\u001b[0;34m\u001b[0m\u001b[0;34m\u001b[0m\u001b[0m\n",
            "\u001b[0;32m/usr/local/lib/python3.10/dist-packages/xarray/util/deprecation_helpers.py\u001b[0m in \u001b[0;36minner\u001b[0;34m(*args, **kwargs)\u001b[0m\n\u001b[1;32m    116\u001b[0m                 \u001b[0;32mreturn\u001b[0m \u001b[0mfunc\u001b[0m\u001b[0;34m(\u001b[0m\u001b[0;34m*\u001b[0m\u001b[0margs\u001b[0m\u001b[0;34m[\u001b[0m\u001b[0;34m:\u001b[0m\u001b[0;34m-\u001b[0m\u001b[0mn_extra_args\u001b[0m\u001b[0;34m]\u001b[0m\u001b[0;34m,\u001b[0m \u001b[0;34m**\u001b[0m\u001b[0mkwargs\u001b[0m\u001b[0;34m)\u001b[0m\u001b[0;34m\u001b[0m\u001b[0;34m\u001b[0m\u001b[0m\n\u001b[1;32m    117\u001b[0m \u001b[0;34m\u001b[0m\u001b[0m\n\u001b[0;32m--> 118\u001b[0;31m             \u001b[0;32mreturn\u001b[0m \u001b[0mfunc\u001b[0m\u001b[0;34m(\u001b[0m\u001b[0;34m*\u001b[0m\u001b[0margs\u001b[0m\u001b[0;34m,\u001b[0m \u001b[0;34m**\u001b[0m\u001b[0mkwargs\u001b[0m\u001b[0;34m)\u001b[0m\u001b[0;34m\u001b[0m\u001b[0;34m\u001b[0m\u001b[0m\n\u001b[0m\u001b[1;32m    119\u001b[0m \u001b[0;34m\u001b[0m\u001b[0m\n\u001b[1;32m    120\u001b[0m         \u001b[0;32mreturn\u001b[0m \u001b[0minner\u001b[0m\u001b[0;34m\u001b[0m\u001b[0;34m\u001b[0m\u001b[0m\n",
            "\u001b[0;32m/usr/local/lib/python3.10/dist-packages/xarray/core/dataset.py\u001b[0m in \u001b[0;36mgroupby\u001b[0;34m(self, group, squeeze, restore_coord_dims, **groupers)\u001b[0m\n\u001b[1;32m  10440\u001b[0m \u001b[0;34m\u001b[0m\u001b[0m\n\u001b[1;32m  10441\u001b[0m         \u001b[0m_validate_groupby_squeeze\u001b[0m\u001b[0;34m(\u001b[0m\u001b[0msqueeze\u001b[0m\u001b[0;34m)\u001b[0m\u001b[0;34m\u001b[0m\u001b[0;34m\u001b[0m\u001b[0m\n\u001b[0;32m> 10442\u001b[0;31m         \u001b[0mrgroupers\u001b[0m \u001b[0;34m=\u001b[0m \u001b[0m_parse_group_and_groupers\u001b[0m\u001b[0;34m(\u001b[0m\u001b[0mself\u001b[0m\u001b[0;34m,\u001b[0m \u001b[0mgroup\u001b[0m\u001b[0;34m,\u001b[0m \u001b[0mgroupers\u001b[0m\u001b[0;34m)\u001b[0m\u001b[0;34m\u001b[0m\u001b[0;34m\u001b[0m\u001b[0m\n\u001b[0m\u001b[1;32m  10443\u001b[0m \u001b[0;34m\u001b[0m\u001b[0m\n\u001b[1;32m  10444\u001b[0m         \u001b[0;32mreturn\u001b[0m \u001b[0mDatasetGroupBy\u001b[0m\u001b[0;34m(\u001b[0m\u001b[0mself\u001b[0m\u001b[0;34m,\u001b[0m \u001b[0mrgroupers\u001b[0m\u001b[0;34m,\u001b[0m \u001b[0mrestore_coord_dims\u001b[0m\u001b[0;34m=\u001b[0m\u001b[0mrestore_coord_dims\u001b[0m\u001b[0;34m)\u001b[0m\u001b[0;34m\u001b[0m\u001b[0;34m\u001b[0m\u001b[0m\n",
            "\u001b[0;32m/usr/local/lib/python3.10/dist-packages/xarray/core/groupby.py\u001b[0m in \u001b[0;36m_parse_group_and_groupers\u001b[0;34m(obj, group, groupers)\u001b[0m\n\u001b[1;32m    358\u001b[0m             \u001b[0mgrouper_mapping\u001b[0m \u001b[0;34m=\u001b[0m \u001b[0mcast\u001b[0m\u001b[0;34m(\u001b[0m\u001b[0;34m\"Mapping[Hashable, Grouper]\"\u001b[0m\u001b[0;34m,\u001b[0m \u001b[0mgroupers\u001b[0m\u001b[0;34m)\u001b[0m\u001b[0;34m\u001b[0m\u001b[0;34m\u001b[0m\u001b[0m\n\u001b[1;32m    359\u001b[0m \u001b[0;34m\u001b[0m\u001b[0m\n\u001b[0;32m--> 360\u001b[0;31m         rgroupers = tuple(\n\u001b[0m\u001b[1;32m    361\u001b[0m             \u001b[0mResolvedGrouper\u001b[0m\u001b[0;34m(\u001b[0m\u001b[0mgrouper\u001b[0m\u001b[0;34m,\u001b[0m \u001b[0mgroup\u001b[0m\u001b[0;34m,\u001b[0m \u001b[0mobj\u001b[0m\u001b[0;34m)\u001b[0m\u001b[0;34m\u001b[0m\u001b[0;34m\u001b[0m\u001b[0m\n\u001b[1;32m    362\u001b[0m             \u001b[0;32mfor\u001b[0m \u001b[0mgroup\u001b[0m\u001b[0;34m,\u001b[0m \u001b[0mgrouper\u001b[0m \u001b[0;32min\u001b[0m \u001b[0mgrouper_mapping\u001b[0m\u001b[0;34m.\u001b[0m\u001b[0mitems\u001b[0m\u001b[0;34m(\u001b[0m\u001b[0;34m)\u001b[0m\u001b[0;34m\u001b[0m\u001b[0;34m\u001b[0m\u001b[0m\n",
            "\u001b[0;32m/usr/local/lib/python3.10/dist-packages/xarray/core/groupby.py\u001b[0m in \u001b[0;36m<genexpr>\u001b[0;34m(.0)\u001b[0m\n\u001b[1;32m    359\u001b[0m \u001b[0;34m\u001b[0m\u001b[0m\n\u001b[1;32m    360\u001b[0m         rgroupers = tuple(\n\u001b[0;32m--> 361\u001b[0;31m             \u001b[0mResolvedGrouper\u001b[0m\u001b[0;34m(\u001b[0m\u001b[0mgrouper\u001b[0m\u001b[0;34m,\u001b[0m \u001b[0mgroup\u001b[0m\u001b[0;34m,\u001b[0m \u001b[0mobj\u001b[0m\u001b[0;34m)\u001b[0m\u001b[0;34m\u001b[0m\u001b[0;34m\u001b[0m\u001b[0m\n\u001b[0m\u001b[1;32m    362\u001b[0m             \u001b[0;32mfor\u001b[0m \u001b[0mgroup\u001b[0m\u001b[0;34m,\u001b[0m \u001b[0mgrouper\u001b[0m \u001b[0;32min\u001b[0m \u001b[0mgrouper_mapping\u001b[0m\u001b[0;34m.\u001b[0m\u001b[0mitems\u001b[0m\u001b[0;34m(\u001b[0m\u001b[0;34m)\u001b[0m\u001b[0;34m\u001b[0m\u001b[0;34m\u001b[0m\u001b[0m\n\u001b[1;32m    363\u001b[0m         )\n",
            "\u001b[0;32m/usr/local/lib/python3.10/dist-packages/xarray/core/groupby.py\u001b[0m in \u001b[0;36m__init__\u001b[0;34m(self, grouper, group, obj)\u001b[0m\n",
            "\u001b[0;32m/usr/local/lib/python3.10/dist-packages/xarray/core/groupby.py\u001b[0m in \u001b[0;36m__post_init__\u001b[0;34m(self)\u001b[0m\n\u001b[1;32m    301\u001b[0m         \u001b[0mself\u001b[0m\u001b[0;34m.\u001b[0m\u001b[0mgroup\u001b[0m \u001b[0;34m=\u001b[0m \u001b[0m_resolve_group\u001b[0m\u001b[0;34m(\u001b[0m\u001b[0mself\u001b[0m\u001b[0;34m.\u001b[0m\u001b[0mobj\u001b[0m\u001b[0;34m,\u001b[0m \u001b[0mself\u001b[0m\u001b[0;34m.\u001b[0m\u001b[0mgroup\u001b[0m\u001b[0;34m)\u001b[0m\u001b[0;34m\u001b[0m\u001b[0;34m\u001b[0m\u001b[0m\n\u001b[1;32m    302\u001b[0m \u001b[0;34m\u001b[0m\u001b[0m\n\u001b[0;32m--> 303\u001b[0;31m         \u001b[0mself\u001b[0m\u001b[0;34m.\u001b[0m\u001b[0mencoded\u001b[0m \u001b[0;34m=\u001b[0m \u001b[0mself\u001b[0m\u001b[0;34m.\u001b[0m\u001b[0mgrouper\u001b[0m\u001b[0;34m.\u001b[0m\u001b[0mfactorize\u001b[0m\u001b[0;34m(\u001b[0m\u001b[0mself\u001b[0m\u001b[0;34m.\u001b[0m\u001b[0mgroup\u001b[0m\u001b[0;34m)\u001b[0m\u001b[0;34m\u001b[0m\u001b[0;34m\u001b[0m\u001b[0m\n\u001b[0m\u001b[1;32m    304\u001b[0m \u001b[0;34m\u001b[0m\u001b[0m\n\u001b[1;32m    305\u001b[0m     \u001b[0;34m@\u001b[0m\u001b[0mproperty\u001b[0m\u001b[0;34m\u001b[0m\u001b[0;34m\u001b[0m\u001b[0m\n",
            "\u001b[0;32m/usr/local/lib/python3.10/dist-packages/xarray/groupers.py\u001b[0m in \u001b[0;36mfactorize\u001b[0;34m(self, group)\u001b[0m\n\u001b[1;32m    181\u001b[0m             \u001b[0;32mreturn\u001b[0m \u001b[0mself\u001b[0m\u001b[0;34m.\u001b[0m\u001b[0m_factorize_dummy\u001b[0m\u001b[0;34m(\u001b[0m\u001b[0;34m)\u001b[0m\u001b[0;34m\u001b[0m\u001b[0;34m\u001b[0m\u001b[0m\n\u001b[1;32m    182\u001b[0m         \u001b[0;32melse\u001b[0m\u001b[0;34m:\u001b[0m\u001b[0;34m\u001b[0m\u001b[0;34m\u001b[0m\u001b[0m\n\u001b[0;32m--> 183\u001b[0;31m             \u001b[0;32mreturn\u001b[0m \u001b[0mself\u001b[0m\u001b[0;34m.\u001b[0m\u001b[0m_factorize_unique\u001b[0m\u001b[0;34m(\u001b[0m\u001b[0;34m)\u001b[0m\u001b[0;34m\u001b[0m\u001b[0;34m\u001b[0m\u001b[0m\n\u001b[0m\u001b[1;32m    184\u001b[0m \u001b[0;34m\u001b[0m\u001b[0m\n\u001b[1;32m    185\u001b[0m     \u001b[0;32mdef\u001b[0m \u001b[0m_factorize_unique\u001b[0m\u001b[0;34m(\u001b[0m\u001b[0mself\u001b[0m\u001b[0;34m)\u001b[0m \u001b[0;34m->\u001b[0m \u001b[0mEncodedGroups\u001b[0m\u001b[0;34m:\u001b[0m\u001b[0;34m\u001b[0m\u001b[0;34m\u001b[0m\u001b[0m\n",
            "\u001b[0;32m/usr/local/lib/python3.10/dist-packages/xarray/groupers.py\u001b[0m in \u001b[0;36m_factorize_unique\u001b[0;34m(self)\u001b[0m\n\u001b[1;32m    188\u001b[0m         \u001b[0munique_values\u001b[0m\u001b[0;34m,\u001b[0m \u001b[0mcodes_\u001b[0m \u001b[0;34m=\u001b[0m \u001b[0munique_value_groups\u001b[0m\u001b[0;34m(\u001b[0m\u001b[0mself\u001b[0m\u001b[0;34m.\u001b[0m\u001b[0mgroup_as_index\u001b[0m\u001b[0;34m,\u001b[0m \u001b[0msort\u001b[0m\u001b[0;34m=\u001b[0m\u001b[0msort\u001b[0m\u001b[0;34m)\u001b[0m\u001b[0;34m\u001b[0m\u001b[0;34m\u001b[0m\u001b[0m\n\u001b[1;32m    189\u001b[0m         \u001b[0;32mif\u001b[0m \u001b[0;34m(\u001b[0m\u001b[0mcodes_\u001b[0m \u001b[0;34m==\u001b[0m \u001b[0;34m-\u001b[0m\u001b[0;36m1\u001b[0m\u001b[0;34m)\u001b[0m\u001b[0;34m.\u001b[0m\u001b[0mall\u001b[0m\u001b[0;34m(\u001b[0m\u001b[0;34m)\u001b[0m\u001b[0;34m:\u001b[0m\u001b[0;34m\u001b[0m\u001b[0;34m\u001b[0m\u001b[0m\n\u001b[0;32m--> 190\u001b[0;31m             raise ValueError(\n\u001b[0m\u001b[1;32m    191\u001b[0m                 \u001b[0;34m\"Failed to group data. Are you grouping by a variable that is all NaN?\"\u001b[0m\u001b[0;34m\u001b[0m\u001b[0;34m\u001b[0m\u001b[0m\n\u001b[1;32m    192\u001b[0m             )\n",
            "\u001b[0;31mValueError\u001b[0m: Failed to group data. Are you grouping by a variable that is all NaN?"
          ]
        }
      ]
    },
    {
      "cell_type": "code",
      "source": [
        "# Feel free to use this space"
      ],
      "metadata": {
        "id": "IHSj9yRaUCSg"
      },
      "execution_count": null,
      "outputs": []
    },
    {
      "cell_type": "markdown",
      "source": [
        "Compare it to the regimes found in the paper:\n",
        "<img src='https://unils-my.sharepoint.com/:i:/g/personal/tom_beucler_unil_ch/EehuR9cUfaJImrw4DCAzDPoBiGuG7R3Ys6453Umi1cN_OQ?download=1'>\n",
        "\n"
      ],
      "metadata": {
        "id": "eEMmkpGkc1Xy"
      }
    },
    {
      "cell_type": "markdown",
      "source": [
        "The authors then went on to train neural networks ***to infer in-depth dynamics from data that is largely readily available from for example CMIP6 models, using NN methods to infer the source of predictive skill*** and ***to apply the trained Ensemble MLP to a climate model in order to assess circulation changes under global heating***.\n",
        "\n",
        "For our purposes, however, we will say goodbye to *THOR* at this point 😃"
      ],
      "metadata": {
        "id": "nbWgoD7bv8AH"
      }
    }
  ]
}